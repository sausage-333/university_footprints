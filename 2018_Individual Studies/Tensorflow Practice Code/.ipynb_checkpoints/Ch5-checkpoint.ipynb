{
 "cells": [
  {
   "cell_type": "markdown",
   "metadata": {},
   "source": [
    "## 5.1 학습 모델 저장하고 재사용하기\n",
    "\n",
    "#### .csv 파일로 데이터 분리하기. 1열은 털, 2열은 날개, 3 ~ 마지막 열은 One-hot 인코딩으로 개체의 종류를 나타내는 데이터이다."
   ]
  },
  {
   "cell_type": "code",
   "execution_count": 2,
   "metadata": {},
   "outputs": [],
   "source": [
    "import tensorflow as tf\n",
    "import numpy as np"
   ]
  },
  {
   "cell_type": "markdown",
   "metadata": {},
   "source": [
    "#### 같은 디렉토리에 data.csv 파일을 둔다."
   ]
  },
  {
   "cell_type": "code",
   "execution_count": 28,
   "metadata": {},
   "outputs": [],
   "source": [
    "data = np.loadtxt('./data.csv', delimiter = ',', dtype = 'float32')\n",
    "\n",
    "x_data = data[:, 0:2]\n",
    "y_data = data[:, 2:]"
   ]
  },
  {
   "cell_type": "code",
   "execution_count": 30,
   "metadata": {},
   "outputs": [
    {
     "data": {
      "text/plain": [
       "array([[0., 0.],\n",
       "       [1., 0.],\n",
       "       [1., 1.],\n",
       "       [0., 0.],\n",
       "       [0., 0.],\n",
       "       [0., 1.]], dtype=float32)"
      ]
     },
     "execution_count": 30,
     "metadata": {},
     "output_type": "execute_result"
    }
   ],
   "source": [
    "x_data"
   ]
  },
  {
   "cell_type": "code",
   "execution_count": 29,
   "metadata": {},
   "outputs": [
    {
     "data": {
      "text/plain": [
       "array([[1., 0., 0.],\n",
       "       [0., 1., 0.],\n",
       "       [0., 0., 1.],\n",
       "       [1., 0., 0.],\n",
       "       [1., 0., 0.],\n",
       "       [0., 0., 1.]], dtype=float32)"
      ]
     },
     "execution_count": 29,
     "metadata": {},
     "output_type": "execute_result"
    }
   ],
   "source": [
    "y_data"
   ]
  },
  {
   "cell_type": "code",
   "execution_count": 32,
   "metadata": {},
   "outputs": [],
   "source": [
    "### Variable for counting training number\n",
    "global_step = tf.Variable(0, trainable = False, name = 'global_step')"
   ]
  },
  {
   "cell_type": "code",
   "execution_count": 35,
   "metadata": {},
   "outputs": [],
   "source": [
    "### Placeholder & Weight Setting\n",
    "### For this time, there is no bias\n",
    "X = tf.placeholder(tf.float32)\n",
    "Y = tf.placeholder(tf.float32)\n",
    "\n",
    "### Neural Net Setting\n",
    "W1 = tf.Variable(tf.random_uniform([2, 10], -1., 1.))\n",
    "L1 = tf.nn.relu(tf.matmul(X, W1))\n",
    "\n",
    "W2 = tf.Variable(tf.random_uniform([10, 20], -1., 1.))\n",
    "L2 = tf.nn.relu(tf.matmul(L1, W2))\n",
    "\n",
    "W3 = tf.Variable(tf.random_uniform([20, 3], -1., 1.))\n",
    "model = tf.matmul(L2, W3)"
   ]
  },
  {
   "cell_type": "markdown",
   "metadata": {},
   "source": [
    "#### Bias는 없고, 은닉층은 2층인 DNN. 1층은 10개, 2층은 20개"
   ]
  },
  {
   "cell_type": "code",
   "execution_count": 36,
   "metadata": {},
   "outputs": [],
   "source": [
    "cost = tf.reduce_mean(tf.nn.softmax_cross_entropy_with_logits_v2(labels = Y, logits = model))\n",
    "\n",
    "optimizer = tf.train.AdamOptimizer(learning_rate = 0.01)\n",
    "train_op = optimizer.minimize(cost, global_step = global_step)"
   ]
  },
  {
   "cell_type": "markdown",
   "metadata": {},
   "source": [
    "#### train_op에서 앞서 정의한 global_step을 global_step 파라미터에 전달하였다. 이렇게 하면 최적화 함수가 학습용 변수들을 최적화할 때마다, global_step 값을 1씩 증가한다."
   ]
  },
  {
   "cell_type": "code",
   "execution_count": 48,
   "metadata": {},
   "outputs": [],
   "source": [
    "sess = tf.Session()\n",
    "### Function that brings pre-defined variables \n",
    "saver = tf.train.Saver(tf.global_variables())"
   ]
  },
  {
   "cell_type": "markdown",
   "metadata": {},
   "source": [
    "#### global_variables()를 통해 앞서 정의한 변수들을 모두 가져와서, 이후 이 변수들을 파일에 저장하거나 이전에 학습한 결과를 불러와 담는 변수들로 사용한다."
   ]
  },
  {
   "cell_type": "code",
   "execution_count": 49,
   "metadata": {},
   "outputs": [],
   "source": [
    "ckpt = tf.train.get_checkpoint_state('./model')\n",
    "### Check whether the trained model exists in ./model directory\n",
    "if ckpt and tf.train.checkpoint_exists(ckpt.model_checkpoint_path):\n",
    "    ### Load trained model\n",
    "    saver.restore(sess, ckpt.model_checkpoint_path)\n",
    "else:\n",
    "    ### Initialize variables\n",
    "    sess.run(tf.global_variables_initializer())"
   ]
  },
  {
   "cell_type": "markdown",
   "metadata": {},
   "source": [
    "#### 학습된 모델을 저장한 파일을 체크포인트 파일이라 한다. 이번에는 step 값이 아니라 global_step값을 이용해 학습을 몇 번째 진행하고 있는지 확인한다."
   ]
  },
  {
   "cell_type": "code",
   "execution_count": 57,
   "metadata": {},
   "outputs": [
    {
     "name": "stdout",
     "output_type": "stream",
     "text": [
      "Step:  5 Cost:  0.66732836\n",
      "Step:  6 Cost:  0.6532194\n"
     ]
    }
   ],
   "source": [
    "for step in range(2):\n",
    "    sess.run(train_op, feed_dict = {X: x_data, Y: y_data})\n",
    "    \n",
    "    print(\"Step: \", sess.run(global_step), \"Cost: \", sess.run(cost, feed_dict = {X: x_data, Y: y_data}))"
   ]
  },
  {
   "cell_type": "code",
   "execution_count": 58,
   "metadata": {},
   "outputs": [
    {
     "data": {
      "text/plain": [
       "'./model/dnn.ckpt-6'"
      ]
     },
     "execution_count": 58,
     "metadata": {},
     "output_type": "execute_result"
    }
   ],
   "source": [
    "### Save trained variables in checkpoint file\n",
    "saver.save(sess, './model/dnn.ckpt', global_step = global_step)"
   ]
  },
  {
   "cell_type": "code",
   "execution_count": 59,
   "metadata": {},
   "outputs": [
    {
     "name": "stdout",
     "output_type": "stream",
     "text": [
      "예측값:  [0 1 2 0 0 2]\n",
      "실제값:  [0 1 2 0 0 2]\n",
      "정확도:  100.0\n"
     ]
    }
   ],
   "source": [
    "### Printing Prediction & Real\n",
    "prediction = tf.argmax(model, axis = 1)\n",
    "target = tf.argmax(Y, axis = 1)\n",
    "print (\"예측값: \", sess.run(prediction, feed_dict = {X: x_data}))\n",
    "print (\"실제값: \", sess.run(target, feed_dict = {Y: y_data}))\n",
    "\n",
    "### Compute Accuracy\n",
    "is_correct = tf.equal(prediction, target)\n",
    "accuracy = tf.reduce_mean(tf.cast(is_correct, tf.float32))\n",
    "print (\"정확도: \", sess.run(accuracy * 100, feed_dict = {X: x_data, Y: y_data}))"
   ]
  },
  {
   "cell_type": "markdown",
   "metadata": {},
   "source": [
    "#### 이번 코드를 통해 텐서플로우로 모델 구성은 물론, 학습 후 이것을 저장 및 로드하여 재사용할 수 있음을 확인할 수 있었다.\n",
    "\n",
    "#### 로드 후 재사용이 가능하다는 의미는, 학습과 예측을 분리하여 실행할 수 있음을 의미한다."
   ]
  },
  {
   "cell_type": "markdown",
   "metadata": {},
   "source": [
    "## 5.2 텐서보드 사용하기\n",
    "\n",
    "#### 텐서보드는 학습 과정을 추적하기 쉽게, 손실값이나 정확도 등을 다양한 방식으로 시각화하여 보여준다."
   ]
  },
  {
   "cell_type": "code",
   "execution_count": 60,
   "metadata": {},
   "outputs": [],
   "source": [
    "import tensorflow as tf\n",
    "import numpy as np\n",
    "\n",
    "data = np.loadtxt('./data.csv', delimiter = ',', dtype = 'float32')\n",
    "\n",
    "x_data = data[:, 0:2]\n",
    "y_data = data[:, 2:]\n",
    "\n",
    "### Variable for counting training number\n",
    "global_step = tf.Variable(0, trainable = False, name = 'global_step')\n",
    "\n",
    "### Placeholder & Weight Setting\n",
    "### For this time, there is no bias\n",
    "X = tf.placeholder(tf.float32)\n",
    "Y = tf.placeholder(tf.float32)"
   ]
  },
  {
   "cell_type": "markdown",
   "metadata": {},
   "source": [
    "#### 텐서보드를 사용하기 위한 코드를 추가한다."
   ]
  },
  {
   "cell_type": "code",
   "execution_count": 69,
   "metadata": {},
   "outputs": [],
   "source": [
    "with tf.name_scope('layer1'):\n",
    "    ### Neural Net Setting\n",
    "    ### You can check implicitly in tensorboard\n",
    "    W1 = tf.Variable(tf.random_uniform([2, 10], -1., 1.), name = 'W1')\n",
    "    L1 = tf.nn.relu(tf.matmul(X, W1))\n",
    "    \n",
    "with tf.name_scope('layer2'):\n",
    "    W2 = tf.Variable(tf.random_uniform([10, 20], -1., 1.), name = 'W2')\n",
    "    L2 = tf.nn.relu(tf.matmul(L1, W2))\n",
    "    \n",
    "with tf.name_scope('output'):\n",
    "    W3 = tf.Variable(tf.random_uniform([20, 3], -1., 1.), name = 'W3')\n",
    "    model = tf.matmul(L2, W3)\n",
    "    \n",
    "with tf.name_scope('optimizer'):\n",
    "    cost = tf.reduce_mean(tf.nn.softmax_cross_entropy_with_logits_v2(labels = Y, logits = model))\n",
    "\n",
    "    optimizer = tf.train.AdamOptimizer(learning_rate = 0.01)\n",
    "    train_op = optimizer.minimize(cost, global_step = global_step)\n",
    "    \n",
    "    tf.summary.scalar('cost', cost)"
   ]
  },
  {
   "cell_type": "markdown",
   "metadata": {},
   "source": [
    "##### 값이 하나인 텐서를 수집할 때 scalar 메소드를 사용한다."
   ]
  },
  {
   "cell_type": "code",
   "execution_count": 70,
   "metadata": {},
   "outputs": [
    {
     "name": "stdout",
     "output_type": "stream",
     "text": [
      "INFO:tensorflow:Restoring parameters from ./model2\\dnn.ckpt-100\n"
     ]
    },
    {
     "ename": "NotFoundError",
     "evalue": "Restoring from checkpoint failed. This is most likely due to a Variable name or other graph key that is missing from the checkpoint. Please ensure that you have not altered the graph expected based on the checkpoint. Original error:\n\nKey layer1_2/W1 not found in checkpoint\n\t [[node save_5/RestoreV2 (defined at <ipython-input-70-814dee1def93>:3)  = RestoreV2[dtypes=[DT_FLOAT, DT_FLOAT, DT_FLOAT, DT_FLOAT, DT_FLOAT, ..., DT_FLOAT, DT_FLOAT, DT_FLOAT, DT_FLOAT, DT_FLOAT], _device=\"/job:localhost/replica:0/task:0/device:CPU:0\"](_arg_save_5/Const_0_0, save_5/RestoreV2/tensor_names, save_5/RestoreV2/shape_and_slices)]]\n\nCaused by op 'save_5/RestoreV2', defined at:\n  File \"E:\\Users\\OWNER\\Anaconda3\\envs\\py36\\lib\\runpy.py\", line 193, in _run_module_as_main\n    \"__main__\", mod_spec)\n  File \"E:\\Users\\OWNER\\Anaconda3\\envs\\py36\\lib\\runpy.py\", line 85, in _run_code\n    exec(code, run_globals)\n  File \"E:\\Users\\OWNER\\Anaconda3\\envs\\py36\\lib\\site-packages\\ipykernel_launcher.py\", line 16, in <module>\n    app.launch_new_instance()\n  File \"E:\\Users\\OWNER\\Anaconda3\\envs\\py36\\lib\\site-packages\\traitlets\\config\\application.py\", line 658, in launch_instance\n    app.start()\n  File \"E:\\Users\\OWNER\\Anaconda3\\envs\\py36\\lib\\site-packages\\ipykernel\\kernelapp.py\", line 505, in start\n    self.io_loop.start()\n  File \"E:\\Users\\OWNER\\Anaconda3\\envs\\py36\\lib\\site-packages\\tornado\\platform\\asyncio.py\", line 132, in start\n    self.asyncio_loop.run_forever()\n  File \"E:\\Users\\OWNER\\Anaconda3\\envs\\py36\\lib\\asyncio\\base_events.py\", line 427, in run_forever\n    self._run_once()\n  File \"E:\\Users\\OWNER\\Anaconda3\\envs\\py36\\lib\\asyncio\\base_events.py\", line 1440, in _run_once\n    handle._run()\n  File \"E:\\Users\\OWNER\\Anaconda3\\envs\\py36\\lib\\asyncio\\events.py\", line 145, in _run\n    self._callback(*self._args)\n  File \"E:\\Users\\OWNER\\Anaconda3\\envs\\py36\\lib\\site-packages\\tornado\\ioloop.py\", line 758, in _run_callback\n    ret = callback()\n  File \"E:\\Users\\OWNER\\Anaconda3\\envs\\py36\\lib\\site-packages\\tornado\\stack_context.py\", line 300, in null_wrapper\n    return fn(*args, **kwargs)\n  File \"E:\\Users\\OWNER\\Anaconda3\\envs\\py36\\lib\\site-packages\\tornado\\gen.py\", line 1233, in inner\n    self.run()\n  File \"E:\\Users\\OWNER\\Anaconda3\\envs\\py36\\lib\\site-packages\\tornado\\gen.py\", line 1147, in run\n    yielded = self.gen.send(value)\n  File \"E:\\Users\\OWNER\\Anaconda3\\envs\\py36\\lib\\site-packages\\ipykernel\\kernelbase.py\", line 357, in process_one\n    yield gen.maybe_future(dispatch(*args))\n  File \"E:\\Users\\OWNER\\Anaconda3\\envs\\py36\\lib\\site-packages\\tornado\\gen.py\", line 326, in wrapper\n    yielded = next(result)\n  File \"E:\\Users\\OWNER\\Anaconda3\\envs\\py36\\lib\\site-packages\\ipykernel\\kernelbase.py\", line 267, in dispatch_shell\n    yield gen.maybe_future(handler(stream, idents, msg))\n  File \"E:\\Users\\OWNER\\Anaconda3\\envs\\py36\\lib\\site-packages\\tornado\\gen.py\", line 326, in wrapper\n    yielded = next(result)\n  File \"E:\\Users\\OWNER\\Anaconda3\\envs\\py36\\lib\\site-packages\\ipykernel\\kernelbase.py\", line 534, in execute_request\n    user_expressions, allow_stdin,\n  File \"E:\\Users\\OWNER\\Anaconda3\\envs\\py36\\lib\\site-packages\\tornado\\gen.py\", line 326, in wrapper\n    yielded = next(result)\n  File \"E:\\Users\\OWNER\\Anaconda3\\envs\\py36\\lib\\site-packages\\ipykernel\\ipkernel.py\", line 294, in do_execute\n    res = shell.run_cell(code, store_history=store_history, silent=silent)\n  File \"E:\\Users\\OWNER\\Anaconda3\\envs\\py36\\lib\\site-packages\\ipykernel\\zmqshell.py\", line 536, in run_cell\n    return super(ZMQInteractiveShell, self).run_cell(*args, **kwargs)\n  File \"E:\\Users\\OWNER\\Anaconda3\\envs\\py36\\lib\\site-packages\\IPython\\core\\interactiveshell.py\", line 2819, in run_cell\n    raw_cell, store_history, silent, shell_futures)\n  File \"E:\\Users\\OWNER\\Anaconda3\\envs\\py36\\lib\\site-packages\\IPython\\core\\interactiveshell.py\", line 2845, in _run_cell\n    return runner(coro)\n  File \"E:\\Users\\OWNER\\Anaconda3\\envs\\py36\\lib\\site-packages\\IPython\\core\\async_helpers.py\", line 67, in _pseudo_sync_runner\n    coro.send(None)\n  File \"E:\\Users\\OWNER\\Anaconda3\\envs\\py36\\lib\\site-packages\\IPython\\core\\interactiveshell.py\", line 3020, in run_cell_async\n    interactivity=interactivity, compiler=compiler, result=result)\n  File \"E:\\Users\\OWNER\\Anaconda3\\envs\\py36\\lib\\site-packages\\IPython\\core\\interactiveshell.py\", line 3185, in run_ast_nodes\n    if (yield from self.run_code(code, result)):\n  File \"E:\\Users\\OWNER\\Anaconda3\\envs\\py36\\lib\\site-packages\\IPython\\core\\interactiveshell.py\", line 3267, in run_code\n    exec(code_obj, self.user_global_ns, self.user_ns)\n  File \"<ipython-input-70-814dee1def93>\", line 3, in <module>\n    saver = tf.train.Saver(tf.global_variables())\n  File \"E:\\Users\\OWNER\\Anaconda3\\envs\\py36\\lib\\site-packages\\tensorflow\\python\\training\\saver.py\", line 1102, in __init__\n    self.build()\n  File \"E:\\Users\\OWNER\\Anaconda3\\envs\\py36\\lib\\site-packages\\tensorflow\\python\\training\\saver.py\", line 1114, in build\n    self._build(self._filename, build_save=True, build_restore=True)\n  File \"E:\\Users\\OWNER\\Anaconda3\\envs\\py36\\lib\\site-packages\\tensorflow\\python\\training\\saver.py\", line 1151, in _build\n    build_save=build_save, build_restore=build_restore)\n  File \"E:\\Users\\OWNER\\Anaconda3\\envs\\py36\\lib\\site-packages\\tensorflow\\python\\training\\saver.py\", line 795, in _build_internal\n    restore_sequentially, reshape)\n  File \"E:\\Users\\OWNER\\Anaconda3\\envs\\py36\\lib\\site-packages\\tensorflow\\python\\training\\saver.py\", line 406, in _AddRestoreOps\n    restore_sequentially)\n  File \"E:\\Users\\OWNER\\Anaconda3\\envs\\py36\\lib\\site-packages\\tensorflow\\python\\training\\saver.py\", line 862, in bulk_restore\n    return io_ops.restore_v2(filename_tensor, names, slices, dtypes)\n  File \"E:\\Users\\OWNER\\Anaconda3\\envs\\py36\\lib\\site-packages\\tensorflow\\python\\ops\\gen_io_ops.py\", line 1465, in restore_v2\n    shape_and_slices=shape_and_slices, dtypes=dtypes, name=name)\n  File \"E:\\Users\\OWNER\\Anaconda3\\envs\\py36\\lib\\site-packages\\tensorflow\\python\\framework\\op_def_library.py\", line 787, in _apply_op_helper\n    op_def=op_def)\n  File \"E:\\Users\\OWNER\\Anaconda3\\envs\\py36\\lib\\site-packages\\tensorflow\\python\\util\\deprecation.py\", line 488, in new_func\n    return func(*args, **kwargs)\n  File \"E:\\Users\\OWNER\\Anaconda3\\envs\\py36\\lib\\site-packages\\tensorflow\\python\\framework\\ops.py\", line 3274, in create_op\n    op_def=op_def)\n  File \"E:\\Users\\OWNER\\Anaconda3\\envs\\py36\\lib\\site-packages\\tensorflow\\python\\framework\\ops.py\", line 1770, in __init__\n    self._traceback = tf_stack.extract_stack()\n\nNotFoundError (see above for traceback): Restoring from checkpoint failed. This is most likely due to a Variable name or other graph key that is missing from the checkpoint. Please ensure that you have not altered the graph expected based on the checkpoint. Original error:\n\nKey layer1_2/W1 not found in checkpoint\n\t [[node save_5/RestoreV2 (defined at <ipython-input-70-814dee1def93>:3)  = RestoreV2[dtypes=[DT_FLOAT, DT_FLOAT, DT_FLOAT, DT_FLOAT, DT_FLOAT, ..., DT_FLOAT, DT_FLOAT, DT_FLOAT, DT_FLOAT, DT_FLOAT], _device=\"/job:localhost/replica:0/task:0/device:CPU:0\"](_arg_save_5/Const_0_0, save_5/RestoreV2/tensor_names, save_5/RestoreV2/shape_and_slices)]]\n",
     "output_type": "error",
     "traceback": [
      "\u001b[1;31m---------------------------------------------------------------------------\u001b[0m",
      "\u001b[1;31mNotFoundError\u001b[0m                             Traceback (most recent call last)",
      "\u001b[1;32mE:\\Users\\OWNER\\Anaconda3\\envs\\py36\\lib\\site-packages\\tensorflow\\python\\client\\session.py\u001b[0m in \u001b[0;36m_do_call\u001b[1;34m(self, fn, *args)\u001b[0m\n\u001b[0;32m   1333\u001b[0m     \u001b[1;32mtry\u001b[0m\u001b[1;33m:\u001b[0m\u001b[1;33m\u001b[0m\u001b[1;33m\u001b[0m\u001b[0m\n\u001b[1;32m-> 1334\u001b[1;33m       \u001b[1;32mreturn\u001b[0m \u001b[0mfn\u001b[0m\u001b[1;33m(\u001b[0m\u001b[1;33m*\u001b[0m\u001b[0margs\u001b[0m\u001b[1;33m)\u001b[0m\u001b[1;33m\u001b[0m\u001b[1;33m\u001b[0m\u001b[0m\n\u001b[0m\u001b[0;32m   1335\u001b[0m     \u001b[1;32mexcept\u001b[0m \u001b[0merrors\u001b[0m\u001b[1;33m.\u001b[0m\u001b[0mOpError\u001b[0m \u001b[1;32mas\u001b[0m \u001b[0me\u001b[0m\u001b[1;33m:\u001b[0m\u001b[1;33m\u001b[0m\u001b[1;33m\u001b[0m\u001b[0m\n",
      "\u001b[1;32mE:\\Users\\OWNER\\Anaconda3\\envs\\py36\\lib\\site-packages\\tensorflow\\python\\client\\session.py\u001b[0m in \u001b[0;36m_run_fn\u001b[1;34m(feed_dict, fetch_list, target_list, options, run_metadata)\u001b[0m\n\u001b[0;32m   1318\u001b[0m       return self._call_tf_sessionrun(\n\u001b[1;32m-> 1319\u001b[1;33m           options, feed_dict, fetch_list, target_list, run_metadata)\n\u001b[0m\u001b[0;32m   1320\u001b[0m \u001b[1;33m\u001b[0m\u001b[0m\n",
      "\u001b[1;32mE:\\Users\\OWNER\\Anaconda3\\envs\\py36\\lib\\site-packages\\tensorflow\\python\\client\\session.py\u001b[0m in \u001b[0;36m_call_tf_sessionrun\u001b[1;34m(self, options, feed_dict, fetch_list, target_list, run_metadata)\u001b[0m\n\u001b[0;32m   1406\u001b[0m         \u001b[0mself\u001b[0m\u001b[1;33m.\u001b[0m\u001b[0m_session\u001b[0m\u001b[1;33m,\u001b[0m \u001b[0moptions\u001b[0m\u001b[1;33m,\u001b[0m \u001b[0mfeed_dict\u001b[0m\u001b[1;33m,\u001b[0m \u001b[0mfetch_list\u001b[0m\u001b[1;33m,\u001b[0m \u001b[0mtarget_list\u001b[0m\u001b[1;33m,\u001b[0m\u001b[1;33m\u001b[0m\u001b[1;33m\u001b[0m\u001b[0m\n\u001b[1;32m-> 1407\u001b[1;33m         run_metadata)\n\u001b[0m\u001b[0;32m   1408\u001b[0m \u001b[1;33m\u001b[0m\u001b[0m\n",
      "\u001b[1;31mNotFoundError\u001b[0m: Key layer1_2/W1 not found in checkpoint\n\t [[{{node save_5/RestoreV2}} = RestoreV2[dtypes=[DT_FLOAT, DT_FLOAT, DT_FLOAT, DT_FLOAT, DT_FLOAT, ..., DT_FLOAT, DT_FLOAT, DT_FLOAT, DT_FLOAT, DT_FLOAT], _device=\"/job:localhost/replica:0/task:0/device:CPU:0\"](_arg_save_5/Const_0_0, save_5/RestoreV2/tensor_names, save_5/RestoreV2/shape_and_slices)]]",
      "\nDuring handling of the above exception, another exception occurred:\n",
      "\u001b[1;31mNotFoundError\u001b[0m                             Traceback (most recent call last)",
      "\u001b[1;32mE:\\Users\\OWNER\\Anaconda3\\envs\\py36\\lib\\site-packages\\tensorflow\\python\\training\\saver.py\u001b[0m in \u001b[0;36mrestore\u001b[1;34m(self, sess, save_path)\u001b[0m\n\u001b[0;32m   1545\u001b[0m         sess.run(self.saver_def.restore_op_name,\n\u001b[1;32m-> 1546\u001b[1;33m                  {self.saver_def.filename_tensor_name: save_path})\n\u001b[0m\u001b[0;32m   1547\u001b[0m     \u001b[1;32mexcept\u001b[0m \u001b[0merrors\u001b[0m\u001b[1;33m.\u001b[0m\u001b[0mNotFoundError\u001b[0m \u001b[1;32mas\u001b[0m \u001b[0merr\u001b[0m\u001b[1;33m:\u001b[0m\u001b[1;33m\u001b[0m\u001b[1;33m\u001b[0m\u001b[0m\n",
      "\u001b[1;32mE:\\Users\\OWNER\\Anaconda3\\envs\\py36\\lib\\site-packages\\tensorflow\\python\\client\\session.py\u001b[0m in \u001b[0;36mrun\u001b[1;34m(self, fetches, feed_dict, options, run_metadata)\u001b[0m\n\u001b[0;32m    928\u001b[0m       result = self._run(None, fetches, feed_dict, options_ptr,\n\u001b[1;32m--> 929\u001b[1;33m                          run_metadata_ptr)\n\u001b[0m\u001b[0;32m    930\u001b[0m       \u001b[1;32mif\u001b[0m \u001b[0mrun_metadata\u001b[0m\u001b[1;33m:\u001b[0m\u001b[1;33m\u001b[0m\u001b[1;33m\u001b[0m\u001b[0m\n",
      "\u001b[1;32mE:\\Users\\OWNER\\Anaconda3\\envs\\py36\\lib\\site-packages\\tensorflow\\python\\client\\session.py\u001b[0m in \u001b[0;36m_run\u001b[1;34m(self, handle, fetches, feed_dict, options, run_metadata)\u001b[0m\n\u001b[0;32m   1151\u001b[0m       results = self._do_run(handle, final_targets, final_fetches,\n\u001b[1;32m-> 1152\u001b[1;33m                              feed_dict_tensor, options, run_metadata)\n\u001b[0m\u001b[0;32m   1153\u001b[0m     \u001b[1;32melse\u001b[0m\u001b[1;33m:\u001b[0m\u001b[1;33m\u001b[0m\u001b[1;33m\u001b[0m\u001b[0m\n",
      "\u001b[1;32mE:\\Users\\OWNER\\Anaconda3\\envs\\py36\\lib\\site-packages\\tensorflow\\python\\client\\session.py\u001b[0m in \u001b[0;36m_do_run\u001b[1;34m(self, handle, target_list, fetch_list, feed_dict, options, run_metadata)\u001b[0m\n\u001b[0;32m   1327\u001b[0m       return self._do_call(_run_fn, feeds, fetches, targets, options,\n\u001b[1;32m-> 1328\u001b[1;33m                            run_metadata)\n\u001b[0m\u001b[0;32m   1329\u001b[0m     \u001b[1;32melse\u001b[0m\u001b[1;33m:\u001b[0m\u001b[1;33m\u001b[0m\u001b[1;33m\u001b[0m\u001b[0m\n",
      "\u001b[1;32mE:\\Users\\OWNER\\Anaconda3\\envs\\py36\\lib\\site-packages\\tensorflow\\python\\client\\session.py\u001b[0m in \u001b[0;36m_do_call\u001b[1;34m(self, fn, *args)\u001b[0m\n\u001b[0;32m   1347\u001b[0m       \u001b[0mmessage\u001b[0m \u001b[1;33m=\u001b[0m \u001b[0merror_interpolation\u001b[0m\u001b[1;33m.\u001b[0m\u001b[0minterpolate\u001b[0m\u001b[1;33m(\u001b[0m\u001b[0mmessage\u001b[0m\u001b[1;33m,\u001b[0m \u001b[0mself\u001b[0m\u001b[1;33m.\u001b[0m\u001b[0m_graph\u001b[0m\u001b[1;33m)\u001b[0m\u001b[1;33m\u001b[0m\u001b[1;33m\u001b[0m\u001b[0m\n\u001b[1;32m-> 1348\u001b[1;33m       \u001b[1;32mraise\u001b[0m \u001b[0mtype\u001b[0m\u001b[1;33m(\u001b[0m\u001b[0me\u001b[0m\u001b[1;33m)\u001b[0m\u001b[1;33m(\u001b[0m\u001b[0mnode_def\u001b[0m\u001b[1;33m,\u001b[0m \u001b[0mop\u001b[0m\u001b[1;33m,\u001b[0m \u001b[0mmessage\u001b[0m\u001b[1;33m)\u001b[0m\u001b[1;33m\u001b[0m\u001b[1;33m\u001b[0m\u001b[0m\n\u001b[0m\u001b[0;32m   1349\u001b[0m \u001b[1;33m\u001b[0m\u001b[0m\n",
      "\u001b[1;31mNotFoundError\u001b[0m: Key layer1_2/W1 not found in checkpoint\n\t [[node save_5/RestoreV2 (defined at <ipython-input-70-814dee1def93>:3)  = RestoreV2[dtypes=[DT_FLOAT, DT_FLOAT, DT_FLOAT, DT_FLOAT, DT_FLOAT, ..., DT_FLOAT, DT_FLOAT, DT_FLOAT, DT_FLOAT, DT_FLOAT], _device=\"/job:localhost/replica:0/task:0/device:CPU:0\"](_arg_save_5/Const_0_0, save_5/RestoreV2/tensor_names, save_5/RestoreV2/shape_and_slices)]]\n\nCaused by op 'save_5/RestoreV2', defined at:\n  File \"E:\\Users\\OWNER\\Anaconda3\\envs\\py36\\lib\\runpy.py\", line 193, in _run_module_as_main\n    \"__main__\", mod_spec)\n  File \"E:\\Users\\OWNER\\Anaconda3\\envs\\py36\\lib\\runpy.py\", line 85, in _run_code\n    exec(code, run_globals)\n  File \"E:\\Users\\OWNER\\Anaconda3\\envs\\py36\\lib\\site-packages\\ipykernel_launcher.py\", line 16, in <module>\n    app.launch_new_instance()\n  File \"E:\\Users\\OWNER\\Anaconda3\\envs\\py36\\lib\\site-packages\\traitlets\\config\\application.py\", line 658, in launch_instance\n    app.start()\n  File \"E:\\Users\\OWNER\\Anaconda3\\envs\\py36\\lib\\site-packages\\ipykernel\\kernelapp.py\", line 505, in start\n    self.io_loop.start()\n  File \"E:\\Users\\OWNER\\Anaconda3\\envs\\py36\\lib\\site-packages\\tornado\\platform\\asyncio.py\", line 132, in start\n    self.asyncio_loop.run_forever()\n  File \"E:\\Users\\OWNER\\Anaconda3\\envs\\py36\\lib\\asyncio\\base_events.py\", line 427, in run_forever\n    self._run_once()\n  File \"E:\\Users\\OWNER\\Anaconda3\\envs\\py36\\lib\\asyncio\\base_events.py\", line 1440, in _run_once\n    handle._run()\n  File \"E:\\Users\\OWNER\\Anaconda3\\envs\\py36\\lib\\asyncio\\events.py\", line 145, in _run\n    self._callback(*self._args)\n  File \"E:\\Users\\OWNER\\Anaconda3\\envs\\py36\\lib\\site-packages\\tornado\\ioloop.py\", line 758, in _run_callback\n    ret = callback()\n  File \"E:\\Users\\OWNER\\Anaconda3\\envs\\py36\\lib\\site-packages\\tornado\\stack_context.py\", line 300, in null_wrapper\n    return fn(*args, **kwargs)\n  File \"E:\\Users\\OWNER\\Anaconda3\\envs\\py36\\lib\\site-packages\\tornado\\gen.py\", line 1233, in inner\n    self.run()\n  File \"E:\\Users\\OWNER\\Anaconda3\\envs\\py36\\lib\\site-packages\\tornado\\gen.py\", line 1147, in run\n    yielded = self.gen.send(value)\n  File \"E:\\Users\\OWNER\\Anaconda3\\envs\\py36\\lib\\site-packages\\ipykernel\\kernelbase.py\", line 357, in process_one\n    yield gen.maybe_future(dispatch(*args))\n  File \"E:\\Users\\OWNER\\Anaconda3\\envs\\py36\\lib\\site-packages\\tornado\\gen.py\", line 326, in wrapper\n    yielded = next(result)\n  File \"E:\\Users\\OWNER\\Anaconda3\\envs\\py36\\lib\\site-packages\\ipykernel\\kernelbase.py\", line 267, in dispatch_shell\n    yield gen.maybe_future(handler(stream, idents, msg))\n  File \"E:\\Users\\OWNER\\Anaconda3\\envs\\py36\\lib\\site-packages\\tornado\\gen.py\", line 326, in wrapper\n    yielded = next(result)\n  File \"E:\\Users\\OWNER\\Anaconda3\\envs\\py36\\lib\\site-packages\\ipykernel\\kernelbase.py\", line 534, in execute_request\n    user_expressions, allow_stdin,\n  File \"E:\\Users\\OWNER\\Anaconda3\\envs\\py36\\lib\\site-packages\\tornado\\gen.py\", line 326, in wrapper\n    yielded = next(result)\n  File \"E:\\Users\\OWNER\\Anaconda3\\envs\\py36\\lib\\site-packages\\ipykernel\\ipkernel.py\", line 294, in do_execute\n    res = shell.run_cell(code, store_history=store_history, silent=silent)\n  File \"E:\\Users\\OWNER\\Anaconda3\\envs\\py36\\lib\\site-packages\\ipykernel\\zmqshell.py\", line 536, in run_cell\n    return super(ZMQInteractiveShell, self).run_cell(*args, **kwargs)\n  File \"E:\\Users\\OWNER\\Anaconda3\\envs\\py36\\lib\\site-packages\\IPython\\core\\interactiveshell.py\", line 2819, in run_cell\n    raw_cell, store_history, silent, shell_futures)\n  File \"E:\\Users\\OWNER\\Anaconda3\\envs\\py36\\lib\\site-packages\\IPython\\core\\interactiveshell.py\", line 2845, in _run_cell\n    return runner(coro)\n  File \"E:\\Users\\OWNER\\Anaconda3\\envs\\py36\\lib\\site-packages\\IPython\\core\\async_helpers.py\", line 67, in _pseudo_sync_runner\n    coro.send(None)\n  File \"E:\\Users\\OWNER\\Anaconda3\\envs\\py36\\lib\\site-packages\\IPython\\core\\interactiveshell.py\", line 3020, in run_cell_async\n    interactivity=interactivity, compiler=compiler, result=result)\n  File \"E:\\Users\\OWNER\\Anaconda3\\envs\\py36\\lib\\site-packages\\IPython\\core\\interactiveshell.py\", line 3185, in run_ast_nodes\n    if (yield from self.run_code(code, result)):\n  File \"E:\\Users\\OWNER\\Anaconda3\\envs\\py36\\lib\\site-packages\\IPython\\core\\interactiveshell.py\", line 3267, in run_code\n    exec(code_obj, self.user_global_ns, self.user_ns)\n  File \"<ipython-input-70-814dee1def93>\", line 3, in <module>\n    saver = tf.train.Saver(tf.global_variables())\n  File \"E:\\Users\\OWNER\\Anaconda3\\envs\\py36\\lib\\site-packages\\tensorflow\\python\\training\\saver.py\", line 1102, in __init__\n    self.build()\n  File \"E:\\Users\\OWNER\\Anaconda3\\envs\\py36\\lib\\site-packages\\tensorflow\\python\\training\\saver.py\", line 1114, in build\n    self._build(self._filename, build_save=True, build_restore=True)\n  File \"E:\\Users\\OWNER\\Anaconda3\\envs\\py36\\lib\\site-packages\\tensorflow\\python\\training\\saver.py\", line 1151, in _build\n    build_save=build_save, build_restore=build_restore)\n  File \"E:\\Users\\OWNER\\Anaconda3\\envs\\py36\\lib\\site-packages\\tensorflow\\python\\training\\saver.py\", line 795, in _build_internal\n    restore_sequentially, reshape)\n  File \"E:\\Users\\OWNER\\Anaconda3\\envs\\py36\\lib\\site-packages\\tensorflow\\python\\training\\saver.py\", line 406, in _AddRestoreOps\n    restore_sequentially)\n  File \"E:\\Users\\OWNER\\Anaconda3\\envs\\py36\\lib\\site-packages\\tensorflow\\python\\training\\saver.py\", line 862, in bulk_restore\n    return io_ops.restore_v2(filename_tensor, names, slices, dtypes)\n  File \"E:\\Users\\OWNER\\Anaconda3\\envs\\py36\\lib\\site-packages\\tensorflow\\python\\ops\\gen_io_ops.py\", line 1465, in restore_v2\n    shape_and_slices=shape_and_slices, dtypes=dtypes, name=name)\n  File \"E:\\Users\\OWNER\\Anaconda3\\envs\\py36\\lib\\site-packages\\tensorflow\\python\\framework\\op_def_library.py\", line 787, in _apply_op_helper\n    op_def=op_def)\n  File \"E:\\Users\\OWNER\\Anaconda3\\envs\\py36\\lib\\site-packages\\tensorflow\\python\\util\\deprecation.py\", line 488, in new_func\n    return func(*args, **kwargs)\n  File \"E:\\Users\\OWNER\\Anaconda3\\envs\\py36\\lib\\site-packages\\tensorflow\\python\\framework\\ops.py\", line 3274, in create_op\n    op_def=op_def)\n  File \"E:\\Users\\OWNER\\Anaconda3\\envs\\py36\\lib\\site-packages\\tensorflow\\python\\framework\\ops.py\", line 1770, in __init__\n    self._traceback = tf_stack.extract_stack()\n\nNotFoundError (see above for traceback): Key layer1_2/W1 not found in checkpoint\n\t [[node save_5/RestoreV2 (defined at <ipython-input-70-814dee1def93>:3)  = RestoreV2[dtypes=[DT_FLOAT, DT_FLOAT, DT_FLOAT, DT_FLOAT, DT_FLOAT, ..., DT_FLOAT, DT_FLOAT, DT_FLOAT, DT_FLOAT, DT_FLOAT], _device=\"/job:localhost/replica:0/task:0/device:CPU:0\"](_arg_save_5/Const_0_0, save_5/RestoreV2/tensor_names, save_5/RestoreV2/shape_and_slices)]]\n",
      "\nDuring handling of the above exception, another exception occurred:\n",
      "\u001b[1;31mNotFoundError\u001b[0m                             Traceback (most recent call last)",
      "\u001b[1;32mE:\\Users\\OWNER\\Anaconda3\\envs\\py36\\lib\\site-packages\\tensorflow\\python\\training\\saver.py\u001b[0m in \u001b[0;36mrestore\u001b[1;34m(self, sess, save_path)\u001b[0m\n\u001b[0;32m   1555\u001b[0m       \u001b[1;32mtry\u001b[0m\u001b[1;33m:\u001b[0m\u001b[1;33m\u001b[0m\u001b[1;33m\u001b[0m\u001b[0m\n\u001b[1;32m-> 1556\u001b[1;33m         \u001b[0mnames_to_keys\u001b[0m \u001b[1;33m=\u001b[0m \u001b[0mobject_graph_key_mapping\u001b[0m\u001b[1;33m(\u001b[0m\u001b[0msave_path\u001b[0m\u001b[1;33m)\u001b[0m\u001b[1;33m\u001b[0m\u001b[1;33m\u001b[0m\u001b[0m\n\u001b[0m\u001b[0;32m   1557\u001b[0m       \u001b[1;32mexcept\u001b[0m \u001b[0merrors\u001b[0m\u001b[1;33m.\u001b[0m\u001b[0mNotFoundError\u001b[0m\u001b[1;33m:\u001b[0m\u001b[1;33m\u001b[0m\u001b[1;33m\u001b[0m\u001b[0m\n",
      "\u001b[1;32mE:\\Users\\OWNER\\Anaconda3\\envs\\py36\\lib\\site-packages\\tensorflow\\python\\training\\saver.py\u001b[0m in \u001b[0;36mobject_graph_key_mapping\u001b[1;34m(checkpoint_path)\u001b[0m\n\u001b[0;32m   1829\u001b[0m   object_graph_string = reader.get_tensor(\n\u001b[1;32m-> 1830\u001b[1;33m       checkpointable.OBJECT_GRAPH_PROTO_KEY)\n\u001b[0m\u001b[0;32m   1831\u001b[0m   object_graph_proto = (\n",
      "\u001b[1;32mE:\\Users\\OWNER\\Anaconda3\\envs\\py36\\lib\\site-packages\\tensorflow\\python\\pywrap_tensorflow_internal.py\u001b[0m in \u001b[0;36mget_tensor\u001b[1;34m(self, tensor_str)\u001b[0m\n\u001b[0;32m    370\u001b[0m         return CheckpointReader_GetTensor(self, compat.as_bytes(tensor_str),\n\u001b[1;32m--> 371\u001b[1;33m                                           status)\n\u001b[0m\u001b[0;32m    372\u001b[0m \u001b[1;33m\u001b[0m\u001b[0m\n",
      "\u001b[1;32mE:\\Users\\OWNER\\Anaconda3\\envs\\py36\\lib\\site-packages\\tensorflow\\python\\framework\\errors_impl.py\u001b[0m in \u001b[0;36m__exit__\u001b[1;34m(self, type_arg, value_arg, traceback_arg)\u001b[0m\n\u001b[0;32m    527\u001b[0m             \u001b[0mcompat\u001b[0m\u001b[1;33m.\u001b[0m\u001b[0mas_text\u001b[0m\u001b[1;33m(\u001b[0m\u001b[0mc_api\u001b[0m\u001b[1;33m.\u001b[0m\u001b[0mTF_Message\u001b[0m\u001b[1;33m(\u001b[0m\u001b[0mself\u001b[0m\u001b[1;33m.\u001b[0m\u001b[0mstatus\u001b[0m\u001b[1;33m.\u001b[0m\u001b[0mstatus\u001b[0m\u001b[1;33m)\u001b[0m\u001b[1;33m)\u001b[0m\u001b[1;33m,\u001b[0m\u001b[1;33m\u001b[0m\u001b[1;33m\u001b[0m\u001b[0m\n\u001b[1;32m--> 528\u001b[1;33m             c_api.TF_GetCode(self.status.status))\n\u001b[0m\u001b[0;32m    529\u001b[0m     \u001b[1;31m# Delete the underlying status object from memory otherwise it stays alive\u001b[0m\u001b[1;33m\u001b[0m\u001b[1;33m\u001b[0m\u001b[1;33m\u001b[0m\u001b[0m\n",
      "\u001b[1;31mNotFoundError\u001b[0m: Key _CHECKPOINTABLE_OBJECT_GRAPH not found in checkpoint",
      "\nDuring handling of the above exception, another exception occurred:\n",
      "\u001b[1;31mNotFoundError\u001b[0m                             Traceback (most recent call last)",
      "\u001b[1;32m<ipython-input-70-814dee1def93>\u001b[0m in \u001b[0;36m<module>\u001b[1;34m\u001b[0m\n\u001b[0;32m      7\u001b[0m \u001b[1;32mif\u001b[0m \u001b[0mckpt\u001b[0m \u001b[1;32mand\u001b[0m \u001b[0mtf\u001b[0m\u001b[1;33m.\u001b[0m\u001b[0mtrain\u001b[0m\u001b[1;33m.\u001b[0m\u001b[0mcheckpoint_exists\u001b[0m\u001b[1;33m(\u001b[0m\u001b[0mckpt\u001b[0m\u001b[1;33m.\u001b[0m\u001b[0mmodel_checkpoint_path\u001b[0m\u001b[1;33m)\u001b[0m\u001b[1;33m:\u001b[0m\u001b[1;33m\u001b[0m\u001b[1;33m\u001b[0m\u001b[0m\n\u001b[0;32m      8\u001b[0m     \u001b[1;31m### Load trained model\u001b[0m\u001b[1;33m\u001b[0m\u001b[1;33m\u001b[0m\u001b[1;33m\u001b[0m\u001b[0m\n\u001b[1;32m----> 9\u001b[1;33m     \u001b[0msaver\u001b[0m\u001b[1;33m.\u001b[0m\u001b[0mrestore\u001b[0m\u001b[1;33m(\u001b[0m\u001b[0msess\u001b[0m\u001b[1;33m,\u001b[0m \u001b[0mckpt\u001b[0m\u001b[1;33m.\u001b[0m\u001b[0mmodel_checkpoint_path\u001b[0m\u001b[1;33m)\u001b[0m\u001b[1;33m\u001b[0m\u001b[1;33m\u001b[0m\u001b[0m\n\u001b[0m\u001b[0;32m     10\u001b[0m \u001b[1;32melse\u001b[0m\u001b[1;33m:\u001b[0m\u001b[1;33m\u001b[0m\u001b[1;33m\u001b[0m\u001b[0m\n\u001b[0;32m     11\u001b[0m     \u001b[1;31m### Initialize variables\u001b[0m\u001b[1;33m\u001b[0m\u001b[1;33m\u001b[0m\u001b[1;33m\u001b[0m\u001b[0m\n",
      "\u001b[1;32mE:\\Users\\OWNER\\Anaconda3\\envs\\py36\\lib\\site-packages\\tensorflow\\python\\training\\saver.py\u001b[0m in \u001b[0;36mrestore\u001b[1;34m(self, sess, save_path)\u001b[0m\n\u001b[0;32m   1560\u001b[0m         \u001b[1;31m# a helpful message (b/110263146)\u001b[0m\u001b[1;33m\u001b[0m\u001b[1;33m\u001b[0m\u001b[1;33m\u001b[0m\u001b[0m\n\u001b[0;32m   1561\u001b[0m         raise _wrap_restore_error_with_msg(\n\u001b[1;32m-> 1562\u001b[1;33m             err, \"a Variable name or other graph key that is missing\")\n\u001b[0m\u001b[0;32m   1563\u001b[0m \u001b[1;33m\u001b[0m\u001b[0m\n\u001b[0;32m   1564\u001b[0m       \u001b[1;31m# This is an object-based checkpoint. We'll print a warning and then do\u001b[0m\u001b[1;33m\u001b[0m\u001b[1;33m\u001b[0m\u001b[1;33m\u001b[0m\u001b[0m\n",
      "\u001b[1;31mNotFoundError\u001b[0m: Restoring from checkpoint failed. This is most likely due to a Variable name or other graph key that is missing from the checkpoint. Please ensure that you have not altered the graph expected based on the checkpoint. Original error:\n\nKey layer1_2/W1 not found in checkpoint\n\t [[node save_5/RestoreV2 (defined at <ipython-input-70-814dee1def93>:3)  = RestoreV2[dtypes=[DT_FLOAT, DT_FLOAT, DT_FLOAT, DT_FLOAT, DT_FLOAT, ..., DT_FLOAT, DT_FLOAT, DT_FLOAT, DT_FLOAT, DT_FLOAT], _device=\"/job:localhost/replica:0/task:0/device:CPU:0\"](_arg_save_5/Const_0_0, save_5/RestoreV2/tensor_names, save_5/RestoreV2/shape_and_slices)]]\n\nCaused by op 'save_5/RestoreV2', defined at:\n  File \"E:\\Users\\OWNER\\Anaconda3\\envs\\py36\\lib\\runpy.py\", line 193, in _run_module_as_main\n    \"__main__\", mod_spec)\n  File \"E:\\Users\\OWNER\\Anaconda3\\envs\\py36\\lib\\runpy.py\", line 85, in _run_code\n    exec(code, run_globals)\n  File \"E:\\Users\\OWNER\\Anaconda3\\envs\\py36\\lib\\site-packages\\ipykernel_launcher.py\", line 16, in <module>\n    app.launch_new_instance()\n  File \"E:\\Users\\OWNER\\Anaconda3\\envs\\py36\\lib\\site-packages\\traitlets\\config\\application.py\", line 658, in launch_instance\n    app.start()\n  File \"E:\\Users\\OWNER\\Anaconda3\\envs\\py36\\lib\\site-packages\\ipykernel\\kernelapp.py\", line 505, in start\n    self.io_loop.start()\n  File \"E:\\Users\\OWNER\\Anaconda3\\envs\\py36\\lib\\site-packages\\tornado\\platform\\asyncio.py\", line 132, in start\n    self.asyncio_loop.run_forever()\n  File \"E:\\Users\\OWNER\\Anaconda3\\envs\\py36\\lib\\asyncio\\base_events.py\", line 427, in run_forever\n    self._run_once()\n  File \"E:\\Users\\OWNER\\Anaconda3\\envs\\py36\\lib\\asyncio\\base_events.py\", line 1440, in _run_once\n    handle._run()\n  File \"E:\\Users\\OWNER\\Anaconda3\\envs\\py36\\lib\\asyncio\\events.py\", line 145, in _run\n    self._callback(*self._args)\n  File \"E:\\Users\\OWNER\\Anaconda3\\envs\\py36\\lib\\site-packages\\tornado\\ioloop.py\", line 758, in _run_callback\n    ret = callback()\n  File \"E:\\Users\\OWNER\\Anaconda3\\envs\\py36\\lib\\site-packages\\tornado\\stack_context.py\", line 300, in null_wrapper\n    return fn(*args, **kwargs)\n  File \"E:\\Users\\OWNER\\Anaconda3\\envs\\py36\\lib\\site-packages\\tornado\\gen.py\", line 1233, in inner\n    self.run()\n  File \"E:\\Users\\OWNER\\Anaconda3\\envs\\py36\\lib\\site-packages\\tornado\\gen.py\", line 1147, in run\n    yielded = self.gen.send(value)\n  File \"E:\\Users\\OWNER\\Anaconda3\\envs\\py36\\lib\\site-packages\\ipykernel\\kernelbase.py\", line 357, in process_one\n    yield gen.maybe_future(dispatch(*args))\n  File \"E:\\Users\\OWNER\\Anaconda3\\envs\\py36\\lib\\site-packages\\tornado\\gen.py\", line 326, in wrapper\n    yielded = next(result)\n  File \"E:\\Users\\OWNER\\Anaconda3\\envs\\py36\\lib\\site-packages\\ipykernel\\kernelbase.py\", line 267, in dispatch_shell\n    yield gen.maybe_future(handler(stream, idents, msg))\n  File \"E:\\Users\\OWNER\\Anaconda3\\envs\\py36\\lib\\site-packages\\tornado\\gen.py\", line 326, in wrapper\n    yielded = next(result)\n  File \"E:\\Users\\OWNER\\Anaconda3\\envs\\py36\\lib\\site-packages\\ipykernel\\kernelbase.py\", line 534, in execute_request\n    user_expressions, allow_stdin,\n  File \"E:\\Users\\OWNER\\Anaconda3\\envs\\py36\\lib\\site-packages\\tornado\\gen.py\", line 326, in wrapper\n    yielded = next(result)\n  File \"E:\\Users\\OWNER\\Anaconda3\\envs\\py36\\lib\\site-packages\\ipykernel\\ipkernel.py\", line 294, in do_execute\n    res = shell.run_cell(code, store_history=store_history, silent=silent)\n  File \"E:\\Users\\OWNER\\Anaconda3\\envs\\py36\\lib\\site-packages\\ipykernel\\zmqshell.py\", line 536, in run_cell\n    return super(ZMQInteractiveShell, self).run_cell(*args, **kwargs)\n  File \"E:\\Users\\OWNER\\Anaconda3\\envs\\py36\\lib\\site-packages\\IPython\\core\\interactiveshell.py\", line 2819, in run_cell\n    raw_cell, store_history, silent, shell_futures)\n  File \"E:\\Users\\OWNER\\Anaconda3\\envs\\py36\\lib\\site-packages\\IPython\\core\\interactiveshell.py\", line 2845, in _run_cell\n    return runner(coro)\n  File \"E:\\Users\\OWNER\\Anaconda3\\envs\\py36\\lib\\site-packages\\IPython\\core\\async_helpers.py\", line 67, in _pseudo_sync_runner\n    coro.send(None)\n  File \"E:\\Users\\OWNER\\Anaconda3\\envs\\py36\\lib\\site-packages\\IPython\\core\\interactiveshell.py\", line 3020, in run_cell_async\n    interactivity=interactivity, compiler=compiler, result=result)\n  File \"E:\\Users\\OWNER\\Anaconda3\\envs\\py36\\lib\\site-packages\\IPython\\core\\interactiveshell.py\", line 3185, in run_ast_nodes\n    if (yield from self.run_code(code, result)):\n  File \"E:\\Users\\OWNER\\Anaconda3\\envs\\py36\\lib\\site-packages\\IPython\\core\\interactiveshell.py\", line 3267, in run_code\n    exec(code_obj, self.user_global_ns, self.user_ns)\n  File \"<ipython-input-70-814dee1def93>\", line 3, in <module>\n    saver = tf.train.Saver(tf.global_variables())\n  File \"E:\\Users\\OWNER\\Anaconda3\\envs\\py36\\lib\\site-packages\\tensorflow\\python\\training\\saver.py\", line 1102, in __init__\n    self.build()\n  File \"E:\\Users\\OWNER\\Anaconda3\\envs\\py36\\lib\\site-packages\\tensorflow\\python\\training\\saver.py\", line 1114, in build\n    self._build(self._filename, build_save=True, build_restore=True)\n  File \"E:\\Users\\OWNER\\Anaconda3\\envs\\py36\\lib\\site-packages\\tensorflow\\python\\training\\saver.py\", line 1151, in _build\n    build_save=build_save, build_restore=build_restore)\n  File \"E:\\Users\\OWNER\\Anaconda3\\envs\\py36\\lib\\site-packages\\tensorflow\\python\\training\\saver.py\", line 795, in _build_internal\n    restore_sequentially, reshape)\n  File \"E:\\Users\\OWNER\\Anaconda3\\envs\\py36\\lib\\site-packages\\tensorflow\\python\\training\\saver.py\", line 406, in _AddRestoreOps\n    restore_sequentially)\n  File \"E:\\Users\\OWNER\\Anaconda3\\envs\\py36\\lib\\site-packages\\tensorflow\\python\\training\\saver.py\", line 862, in bulk_restore\n    return io_ops.restore_v2(filename_tensor, names, slices, dtypes)\n  File \"E:\\Users\\OWNER\\Anaconda3\\envs\\py36\\lib\\site-packages\\tensorflow\\python\\ops\\gen_io_ops.py\", line 1465, in restore_v2\n    shape_and_slices=shape_and_slices, dtypes=dtypes, name=name)\n  File \"E:\\Users\\OWNER\\Anaconda3\\envs\\py36\\lib\\site-packages\\tensorflow\\python\\framework\\op_def_library.py\", line 787, in _apply_op_helper\n    op_def=op_def)\n  File \"E:\\Users\\OWNER\\Anaconda3\\envs\\py36\\lib\\site-packages\\tensorflow\\python\\util\\deprecation.py\", line 488, in new_func\n    return func(*args, **kwargs)\n  File \"E:\\Users\\OWNER\\Anaconda3\\envs\\py36\\lib\\site-packages\\tensorflow\\python\\framework\\ops.py\", line 3274, in create_op\n    op_def=op_def)\n  File \"E:\\Users\\OWNER\\Anaconda3\\envs\\py36\\lib\\site-packages\\tensorflow\\python\\framework\\ops.py\", line 1770, in __init__\n    self._traceback = tf_stack.extract_stack()\n\nNotFoundError (see above for traceback): Restoring from checkpoint failed. This is most likely due to a Variable name or other graph key that is missing from the checkpoint. Please ensure that you have not altered the graph expected based on the checkpoint. Original error:\n\nKey layer1_2/W1 not found in checkpoint\n\t [[node save_5/RestoreV2 (defined at <ipython-input-70-814dee1def93>:3)  = RestoreV2[dtypes=[DT_FLOAT, DT_FLOAT, DT_FLOAT, DT_FLOAT, DT_FLOAT, ..., DT_FLOAT, DT_FLOAT, DT_FLOAT, DT_FLOAT, DT_FLOAT], _device=\"/job:localhost/replica:0/task:0/device:CPU:0\"](_arg_save_5/Const_0_0, save_5/RestoreV2/tensor_names, save_5/RestoreV2/shape_and_slices)]]\n"
     ]
    }
   ],
   "source": [
    "sess = tf.Session()\n",
    "### Function that brings pre-defined variables \n",
    "saver = tf.train.Saver(tf.global_variables())\n",
    "\n",
    "ckpt = tf.train.get_checkpoint_state('./model2')\n",
    "### Check whether the trained model exists in ./model directory\n",
    "if ckpt and tf.train.checkpoint_exists(ckpt.model_checkpoint_path):\n",
    "    ### Load trained model\n",
    "    saver.restore(sess, ckpt.model_checkpoint_path)\n",
    "else:\n",
    "    ### Initialize variables\n",
    "    sess.run(tf.global_variables_initializer())"
   ]
  },
  {
   "cell_type": "code",
   "execution_count": 66,
   "metadata": {},
   "outputs": [],
   "source": [
    "merged = tf.summary.merge_all()\n",
    "writer = tf.summary.FileWriter('./logs', sess.graph)"
   ]
  },
  {
   "cell_type": "markdown",
   "metadata": {},
   "source": [
    "#### tf.summary.merge_all 함수로 앞서 지정한 텐서들을 수집한 다음, tf.summary.FileWriter 함수를 이용해 그래프와 텐서들의 값을 저장할 디렉토리를 설정한다."
   ]
  },
  {
   "cell_type": "code",
   "execution_count": 67,
   "metadata": {},
   "outputs": [
    {
     "name": "stdout",
     "output_type": "stream",
     "text": [
      "Step:  1 Cost:  1.1516222\n",
      "Step:  2 Cost:  1.0865926\n",
      "Step:  3 Cost:  1.0263119\n",
      "Step:  4 Cost:  0.9723439\n",
      "Step:  5 Cost:  0.9278333\n",
      "Step:  6 Cost:  0.8877304\n",
      "Step:  7 Cost:  0.85006714\n",
      "Step:  8 Cost:  0.81585103\n",
      "Step:  9 Cost:  0.7849751\n",
      "Step:  10 Cost:  0.75662035\n",
      "Step:  11 Cost:  0.73101634\n",
      "Step:  12 Cost:  0.7083011\n",
      "Step:  13 Cost:  0.68832594\n",
      "Step:  14 Cost:  0.67116386\n",
      "Step:  15 Cost:  0.6561456\n",
      "Step:  16 Cost:  0.6430461\n",
      "Step:  17 Cost:  0.6316499\n",
      "Step:  18 Cost:  0.6217539\n",
      "Step:  19 Cost:  0.61316854\n",
      "Step:  20 Cost:  0.6057184\n",
      "Step:  21 Cost:  0.5992519\n",
      "Step:  22 Cost:  0.59404993\n",
      "Step:  23 Cost:  0.5897603\n",
      "Step:  24 Cost:  0.5859057\n",
      "Step:  25 Cost:  0.5823409\n",
      "Step:  26 Cost:  0.5788947\n",
      "Step:  27 Cost:  0.57579833\n",
      "Step:  28 Cost:  0.5729911\n",
      "Step:  29 Cost:  0.57037085\n",
      "Step:  30 Cost:  0.5680273\n",
      "Step:  31 Cost:  0.5659551\n",
      "Step:  32 Cost:  0.5641652\n",
      "Step:  33 Cost:  0.5626047\n",
      "Step:  34 Cost:  0.56123966\n",
      "Step:  35 Cost:  0.5600421\n",
      "Step:  36 Cost:  0.5589883\n",
      "Step:  37 Cost:  0.5580583\n",
      "Step:  38 Cost:  0.5572355\n",
      "Step:  39 Cost:  0.556506\n",
      "Step:  40 Cost:  0.5558581\n",
      "Step:  41 Cost:  0.5552942\n",
      "Step:  42 Cost:  0.5547975\n",
      "Step:  43 Cost:  0.554352\n",
      "Step:  44 Cost:  0.55395246\n",
      "Step:  45 Cost:  0.5535941\n",
      "Step:  46 Cost:  0.5532726\n",
      "Step:  47 Cost:  0.55298406\n",
      "Step:  48 Cost:  0.5527248\n",
      "Step:  49 Cost:  0.55249166\n",
      "Step:  50 Cost:  0.5522836\n",
      "Step:  51 Cost:  0.5520962\n",
      "Step:  52 Cost:  0.5519269\n",
      "Step:  53 Cost:  0.5517824\n",
      "Step:  54 Cost:  0.551652\n",
      "Step:  55 Cost:  0.5515322\n",
      "Step:  56 Cost:  0.55142164\n",
      "Step:  57 Cost:  0.5513194\n",
      "Step:  58 Cost:  0.5512249\n",
      "Step:  59 Cost:  0.55113745\n",
      "Step:  60 Cost:  0.5510563\n",
      "Step:  61 Cost:  0.5509812\n",
      "Step:  62 Cost:  0.5509115\n",
      "Step:  63 Cost:  0.5508468\n",
      "Step:  64 Cost:  0.55078655\n",
      "Step:  65 Cost:  0.5507338\n",
      "Step:  66 Cost:  0.5506847\n",
      "Step:  67 Cost:  0.55063874\n",
      "Step:  68 Cost:  0.55059576\n",
      "Step:  69 Cost:  0.5505554\n",
      "Step:  70 Cost:  0.5505175\n",
      "Step:  71 Cost:  0.55048174\n",
      "Step:  72 Cost:  0.5504481\n",
      "Step:  73 Cost:  0.5504163\n",
      "Step:  74 Cost:  0.55038613\n",
      "Step:  75 Cost:  0.55035764\n",
      "Step:  76 Cost:  0.5503306\n",
      "Step:  77 Cost:  0.55030483\n",
      "Step:  78 Cost:  0.55028033\n",
      "Step:  79 Cost:  0.55025697\n",
      "Step:  80 Cost:  0.5502346\n",
      "Step:  81 Cost:  0.5502134\n",
      "Step:  82 Cost:  0.550193\n",
      "Step:  83 Cost:  0.55017346\n",
      "Step:  84 Cost:  0.5501548\n",
      "Step:  85 Cost:  0.55013686\n",
      "Step:  86 Cost:  0.55011964\n",
      "Step:  87 Cost:  0.550103\n",
      "Step:  88 Cost:  0.55008715\n",
      "Step:  89 Cost:  0.5500718\n",
      "Step:  90 Cost:  0.55005723\n",
      "Step:  91 Cost:  0.55004334\n",
      "Step:  92 Cost:  0.5500298\n",
      "Step:  93 Cost:  0.5500166\n",
      "Step:  94 Cost:  0.5500037\n",
      "Step:  95 Cost:  0.5499911\n",
      "Step:  96 Cost:  0.54997927\n",
      "Step:  97 Cost:  0.54996777\n",
      "Step:  98 Cost:  0.54995656\n",
      "Step:  99 Cost:  0.54994583\n",
      "Step:  100 Cost:  0.5499353\n"
     ]
    }
   ],
   "source": [
    "for step in range(100):\n",
    "    sess.run(train_op, feed_dict = {X: x_data, Y: y_data})\n",
    "    \n",
    "    print(\"Step: \", sess.run(global_step), \"Cost: \", sess.run(cost, feed_dict = {X: x_data, Y: y_data}))\n",
    "    \n",
    "    summary = sess.run(merged, feed_dict = {X: x_data, Y: y_data})\n",
    "    writer.add_summary(summary, global_step = sess.run(global_step))"
   ]
  },
  {
   "cell_type": "markdown",
   "metadata": {},
   "source": [
    "#### merged에 모아둔 텐서의 값들을 계산하여 summary에 수집한 뒤, add_summary 함수로 변수 writer에 해당 값들을 지정한 디렉토리에 저장한다."
   ]
  },
  {
   "cell_type": "code",
   "execution_count": 68,
   "metadata": {},
   "outputs": [
    {
     "name": "stdout",
     "output_type": "stream",
     "text": [
      "예측값:  [0 1 2 0 0 2]\n",
      "실제값:  [0 1 2 0 0 2]\n",
      "정확도:  100.0\n"
     ]
    }
   ],
   "source": [
    "### Save trained variables in checkpoint file\n",
    "saver.save(sess, './model2/dnn.ckpt', global_step = global_step)\n",
    "\n",
    "### Printing Prediction & Real\n",
    "prediction = tf.argmax(model, axis = 1)\n",
    "target = tf.argmax(Y, axis = 1)\n",
    "print (\"예측값: \", sess.run(prediction, feed_dict = {X: x_data}))\n",
    "print (\"실제값: \", sess.run(target, feed_dict = {Y: y_data}))\n",
    "\n",
    "### Compute Accuracy\n",
    "is_correct = tf.equal(prediction, target)\n",
    "accuracy = tf.reduce_mean(tf.cast(is_correct, tf.float32))\n",
    "print (\"정확도: \", sess.run(accuracy * 100, feed_dict = {X: x_data, Y: y_data}))"
   ]
  },
  {
   "cell_type": "code",
   "execution_count": null,
   "metadata": {},
   "outputs": [],
   "source": []
  }
 ],
 "metadata": {
  "kernelspec": {
   "display_name": "Python 3",
   "language": "python",
   "name": "python3"
  },
  "language_info": {
   "codemirror_mode": {
    "name": "ipython",
    "version": 3
   },
   "file_extension": ".py",
   "mimetype": "text/x-python",
   "name": "python",
   "nbconvert_exporter": "python",
   "pygments_lexer": "ipython3",
   "version": "3.6.7"
  }
 },
 "nbformat": 4,
 "nbformat_minor": 2
}
