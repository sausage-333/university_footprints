{
 "cells": [
  {
   "cell_type": "code",
   "execution_count": 1,
   "metadata": {},
   "outputs": [],
   "source": [
    "import tensorflow as tf\n",
    "import numpy as np"
   ]
  },
  {
   "cell_type": "code",
   "execution_count": 2,
   "metadata": {},
   "outputs": [],
   "source": [
    "# Data loading\n",
    "data = np.loadtxt('data-03-diabetes.csv', delimiter = ',', dtype = np.float32)\n",
    "x_data = data[:, 0:-1]\n",
    "y_data = data[:, -1]"
   ]
  },
  {
   "cell_type": "code",
   "execution_count": 3,
   "metadata": {},
   "outputs": [],
   "source": [
    "# Placeholders for a tensor\n",
    "x = tf.placeholder(tf.float32, shape = [None, 8])   ## Number of features\n",
    "y = tf.placeholder(tf.float32, shape = [None])\n",
    "\n",
    "theta = tf.Variable(tf.random_normal([8,1]), name = 'weight')\n",
    "bias = tf.Variable(tf.random_normal([1]), name = 'bias')"
   ]
  },
  {
   "cell_type": "code",
   "execution_count": 4,
   "metadata": {},
   "outputs": [],
   "source": [
    "# Sigmoid Hypothesis\n",
    "hypothesis = tf.sigmoid(tf.matmul(x, theta) + bias)\n",
    "\n",
    "# Cost Function\n",
    "cost = -tf.reduce_mean(y * tf.log(hypothesis) + (1 - y) * tf.log(1 - hypothesis))\n",
    "\n",
    "# Gradient Descent\n",
    "train = tf.train.GradientDescentOptimizer(learning_rate = 1).minimize(cost)"
   ]
  },
  {
   "cell_type": "code",
   "execution_count": 5,
   "metadata": {},
   "outputs": [],
   "source": [
    "# Threshold Setting\n",
    "predicted = tf.cast(hypothesis > 0.5, dtype = tf.float32)\n",
    "accuracy = tf.reduce_mean(tf.cast(tf.equal(predicted, y), dtype = tf.float32))"
   ]
  },
  {
   "cell_type": "code",
   "execution_count": 6,
   "metadata": {},
   "outputs": [
    {
     "name": "stdout",
     "output_type": "stream",
     "text": [
      "0 0.93846613\n",
      "200 0.64543444\n",
      "400 0.6452284\n",
      "600 0.64520174\n",
      "800 0.64485556\n",
      "1000 0.64486516\n",
      "1200 0.644869\n",
      "1400 0.6448699\n",
      "1600 0.6448701\n",
      "1800 0.64487016\n",
      "2000 0.64487016\n",
      "2200 0.64487016\n",
      "2400 0.64487016\n",
      "2600 0.64487016\n",
      "2800 0.64487016\n",
      "3000 0.64487016\n",
      "3200 0.64487016\n",
      "3400 0.64487016\n",
      "3600 0.64487016\n",
      "3800 0.64487016\n",
      "4000 0.64487016\n",
      "4200 0.64487016\n",
      "4400 0.64487016\n",
      "4600 0.64487016\n",
      "4800 0.64487016\n",
      "5000 0.64487016\n",
      "5200 0.64487016\n",
      "5400 0.64487016\n",
      "5600 0.64487016\n",
      "5800 0.64487016\n",
      "6000 0.64487016\n",
      "6200 0.64487016\n",
      "6400 0.64487016\n",
      "6600 0.64487016\n",
      "6800 0.64487016\n",
      "7000 0.64487016\n",
      "7200 0.64487016\n",
      "7400 0.64487016\n",
      "7600 0.64487016\n",
      "7800 0.64487016\n",
      "8000 0.64487016\n",
      "8200 0.64487016\n",
      "8400 0.64487016\n",
      "8600 0.64487016\n",
      "8800 0.64487016\n",
      "9000 0.64487016\n",
      "9200 0.64487016\n",
      "9400 0.64487016\n",
      "9600 0.64487016\n",
      "9800 0.64487016\n",
      "10000 0.64487016\n",
      "\n",
      "Accuracy:  0.65349144\n"
     ]
    }
   ],
   "source": [
    "# launch graph\n",
    "with tf.Session() as sess:\n",
    "    \n",
    "    # Randomly initialize Tensorflow variables\n",
    "    sess.run(tf.global_variables_initializer())\n",
    "    \n",
    "    for step in range(10001):\n",
    "        cost_val, _ = sess.run([cost, train], feed_dict={x: x_data, y: y_data})\n",
    "        \n",
    "        if step % 200 == 0:\n",
    "            print (step, cost_val)\n",
    "        \n",
    "    # Accracy Report\n",
    "    h, c, a = sess.run([hypothesis, predicted, accuracy],\n",
    "                       feed_dict = {x: x_data, y: y_data})\n",
    "    print(\"\\nAccuracy: \", a)"
   ]
  },
  {
   "cell_type": "code",
   "execution_count": null,
   "metadata": {},
   "outputs": [],
   "source": []
  }
 ],
 "metadata": {
  "kernelspec": {
   "display_name": "Python 3",
   "language": "python",
   "name": "python3"
  },
  "language_info": {
   "codemirror_mode": {
    "name": "ipython",
    "version": 3
   },
   "file_extension": ".py",
   "mimetype": "text/x-python",
   "name": "python",
   "nbconvert_exporter": "python",
   "pygments_lexer": "ipython3",
   "version": "3.6.7"
  }
 },
 "nbformat": 4,
 "nbformat_minor": 2
}
