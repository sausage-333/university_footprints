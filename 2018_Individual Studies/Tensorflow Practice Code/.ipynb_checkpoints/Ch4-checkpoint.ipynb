{
 "cells": [
  {
   "cell_type": "markdown",
   "metadata": {},
   "source": [
    "## 4.2 간단한 Classification 모델 구현하기"
   ]
  },
  {
   "cell_type": "markdown",
   "metadata": {},
   "source": [
    "#### 털과 날개가 있느냐를 기준으로 포유류와 조류를 구분하는 신경망 모델을 만들자."
   ]
  },
  {
   "cell_type": "code",
   "execution_count": 80,
   "metadata": {},
   "outputs": [],
   "source": [
    "import tensorflow as tf\n",
    "import numpy as np"
   ]
  },
  {
   "cell_type": "code",
   "execution_count": 81,
   "metadata": {},
   "outputs": [],
   "source": [
    "## Definition of Training set\n",
    "### Define feature data as [fur, fly]\n",
    "### Existence == 1; Non-existence == 0;\n",
    "x_data = np.array([[0, 0], [1, 0], [0, 0], [1, 1], [0, 0], [0, 1]])\n",
    "\n",
    "### Define labed data as [None, Mammal, Birds]\n",
    "y_data = np.array([[1, 0, 0],   ## None\n",
    "                   [0, 1, 0],   ## Mammal\n",
    "                   [1, 0, 0],\n",
    "                   [0, 0, 1],   ## Birds\n",
    "                   [1, 0, 0],\n",
    "                   [0, 0, 1]])"
   ]
  },
  {
   "cell_type": "markdown",
   "metadata": {},
   "source": [
    "#### 위와 같은 Labeling 방식을 One-hot encoding이라 한다.\n",
    "#### 이것은 데이터가 가질 수 있는 값 중 표현하려는 값을 뜻하는 인덱스의 원소만 1로 표기하고 나머지는 0으로 표기하는 방식이다. "
   ]
  },
  {
   "cell_type": "code",
   "execution_count": 82,
   "metadata": {},
   "outputs": [],
   "source": [
    "### Placeholder\n",
    "X = tf.placeholder(tf.float32)\n",
    "Y = tf.placeholder(tf.float32)"
   ]
  },
  {
   "cell_type": "code",
   "execution_count": 83,
   "metadata": {},
   "outputs": [],
   "source": [
    "### Weight & Bias\n",
    "W = tf.Variable(tf.random_uniform([2, 3], -1., 1.))\n",
    "b = tf.Variable(tf.zeros([3]))"
   ]
  },
  {
   "cell_type": "markdown",
   "metadata": {},
   "source": [
    "##### X * W + b를 고려했을 때, X는 (Training Set 개수 * Feature 개수)이므로, W는 (Feature 개수 * Classification 개수)로 설정하는 것이 맞다."
   ]
  },
  {
   "cell_type": "code",
   "execution_count": 84,
   "metadata": {},
   "outputs": [],
   "source": [
    "### Neural Net Settings\n",
    "### Activation = ReLU(X*W + b)\n",
    "L = tf.add(tf.matmul(X, W), b)\n",
    "L = tf.nn.relu(L)\n",
    "\n",
    "model = tf.nn.softmax(L)"
   ]
  },
  {
   "cell_type": "markdown",
   "metadata": {},
   "source": [
    "#### 신경망을 통해 나온 출력을 Softmax 함수로 다듬어 준다. 이는 결과값들의 전체 합이 1이 되도록 정규화시켜주는 요소이다."
   ]
  },
  {
   "cell_type": "code",
   "execution_count": 85,
   "metadata": {},
   "outputs": [],
   "source": [
    "### Cross-Entropy Cost Function\n",
    "cost = tf.reduce_mean(-tf.reduce_sum(Y * tf.log(model), axis = 1))"
   ]
  },
  {
   "cell_type": "markdown",
   "metadata": {},
   "source": [
    "#### 실제 Label이 1인 것과 예측값 사이의 차이만 고려하는 Cost Function."
   ]
  },
  {
   "cell_type": "code",
   "execution_count": 86,
   "metadata": {},
   "outputs": [],
   "source": [
    "### Gradient Descent\n",
    "optimizer = tf.train.GradientDescentOptimizer(learning_rate = 0.1)\n",
    "train_op = optimizer.minimize(cost)"
   ]
  },
  {
   "cell_type": "code",
   "execution_count": 100,
   "metadata": {},
   "outputs": [
    {
     "name": "stdout",
     "output_type": "stream",
     "text": [
      "10 0.8616209\n",
      "20 0.6619931\n",
      "30 0.4706123\n",
      "40 0.32308817\n",
      "50 0.2182142\n",
      "60 0.14749156\n",
      "70 0.102030635\n",
      "80 0.07310289\n",
      "90 0.05469809\n",
      "100 0.042508125\n"
     ]
    }
   ],
   "source": [
    "### Open & Initialize session\n",
    "sess = tf.Session()\n",
    "sess.run(tf.global_variables_initializer())\n",
    "    \n",
    "for step in range(100):\n",
    "    sess.run(train_op, feed_dict = {X: x_data, Y: y_data})\n",
    "        \n",
    "    ### Print cost value every 10 iteration\n",
    "    if (step + 1) % 10 == 0:\n",
    "        print(step + 1, sess.run(cost, feed_dict = {X: x_data, Y: y_data}))"
   ]
  },
  {
   "cell_type": "code",
   "execution_count": 101,
   "metadata": {},
   "outputs": [
    {
     "name": "stdout",
     "output_type": "stream",
     "text": [
      "예측값:  [0 1 0 2 0 2]\n",
      "실제값:  [0 1 0 2 0 2]\n",
      "정확도:  100.0\n"
     ]
    }
   ],
   "source": [
    "### Printing Prediction & Real\n",
    "prediction = tf.argmax(model, axis = 1)\n",
    "target = tf.argmax(Y, axis = 1)\n",
    "print (\"예측값: \", sess.run(prediction, feed_dict = {X: x_data}))\n",
    "print (\"실제값: \", sess.run(target, feed_dict = {Y: y_data}))\n",
    "\n",
    "### Compute Accuracy\n",
    "is_correct = tf.equal(prediction, target)\n",
    "accuracy = tf.reduce_mean(tf.cast(is_correct, tf.float32))\n",
    "print (\"정확도: \", sess.run(accuracy * 100, feed_dict = {X: x_data, Y: y_data}))"
   ]
  },
  {
   "cell_type": "markdown",
   "metadata": {},
   "source": [
    "#### argmax 메소드는 해당 배열 중 가장 큰 원소의 index를 반환한다. 즉, 0은 None, 1은 Mammal, 2는 Birds에 대응된다.\n",
    "\n",
    "#### 정확도가 좋지 않은 것은 Hidden Layer를 추가함으로써 해결 가능하다."
   ]
  },
  {
   "cell_type": "markdown",
   "metadata": {},
   "source": [
    "## 4.2 심층 신경망 구현하기\n",
    "\n",
    "#### 심층 신경망은 은닉층이 존재하는 신경망을 일컫는다. 4.1에서 구현한 신경망에 Hidden Layer를 추가한다."
   ]
  },
  {
   "cell_type": "code",
   "execution_count": 93,
   "metadata": {},
   "outputs": [],
   "source": [
    "### Weight Setting\n",
    "W1 = tf.Variable(tf.random_uniform([2, 10], -1., 1.))    ## Number of feature * Number of Hidden Layer \n",
    "W2 = tf.Variable(tf.random_uniform([10, 3], -1., 1.))    ## Number of Hidden Layer * Number of classifier\n",
    "\n",
    "### Bias Setting\n",
    "b1 = tf.Variable(tf.zeros([10]))\n",
    "b2 = tf.Variable(tf.zeros([3]))"
   ]
  },
  {
   "cell_type": "code",
   "execution_count": 94,
   "metadata": {},
   "outputs": [],
   "source": [
    "### Input Layer -> Hidden Layer\n",
    "L1 = tf.add(tf.matmul(X, W1), b1)\n",
    "L1 = tf.nn.relu(L1)\n",
    "\n",
    "### Hidden Layer -> Input Layer\n",
    "model = tf.add(tf.matmul(L1, W2), b2)"
   ]
  },
  {
   "cell_type": "code",
   "execution_count": 95,
   "metadata": {},
   "outputs": [],
   "source": [
    "### Cost Function is Cross-Entropy & Algorithm is Adam Optimizer\n",
    "cost = tf.reduce_mean(tf.nn.softmax_cross_entropy_with_logits_v2(labels = Y, logits = model))\n",
    "optimizer = tf.train.AdamOptimizer(learning_rate = 0.01)\n",
    "train_op = optimizer.minimize(cost)"
   ]
  },
  {
   "cell_type": "markdown",
   "metadata": {},
   "source": [
    "#### AdamOptimizer는 GradientDescent가 아닌, 최소 parameter를 찾는 또다른 알고리즘이다."
   ]
  },
  {
   "cell_type": "code",
   "execution_count": 96,
   "metadata": {},
   "outputs": [
    {
     "name": "stdout",
     "output_type": "stream",
     "text": [
      "10 1.0030497\n",
      "20 0.73868865\n",
      "30 0.55730087\n",
      "40 0.4315435\n",
      "50 0.34388223\n",
      "60 0.27922127\n",
      "70 0.23183252\n",
      "80 0.19648558\n",
      "90 0.16910255\n",
      "100 0.14730628\n",
      "예측값:  [0 1 0 2 0 2]\n",
      "실제값:  [0 1 0 2 0 2]\n",
      "정확도:  100.0\n"
     ]
    }
   ],
   "source": [
    "### Open & Initialize session\n",
    "sess = tf.Session()\n",
    "sess.run(tf.global_variables_initializer())\n",
    "    \n",
    "for step in range(100):\n",
    "    sess.run(train_op, feed_dict = {X: x_data, Y: y_data})\n",
    "        \n",
    "    ### Print cost value every 10 iteration\n",
    "    if (step + 1) % 10 == 0:\n",
    "        print(step + 1, sess.run(cost, feed_dict = {X: x_data, Y: y_data}))\n",
    "        \n",
    "### Printing Prediction & Real\n",
    "prediction = tf.argmax(model, axis = 1)\n",
    "target = tf.argmax(Y, axis = 1)\n",
    "print (\"예측값: \", sess.run(prediction, feed_dict = {X: x_data}))\n",
    "print (\"실제값: \", sess.run(target, feed_dict = {Y: y_data}))\n",
    "\n",
    "### Compute Accuracy\n",
    "is_correct = tf.equal(prediction, target)\n",
    "accuracy = tf.reduce_mean(tf.cast(is_correct, tf.float32))\n",
    "print (\"정확도: \", sess.run(accuracy * 100, feed_dict = {X: x_data, Y: y_data}))"
   ]
  },
  {
   "cell_type": "code",
   "execution_count": null,
   "metadata": {},
   "outputs": [],
   "source": []
  }
 ],
 "metadata": {
  "kernelspec": {
   "display_name": "Python 3",
   "language": "python",
   "name": "python3"
  },
  "language_info": {
   "codemirror_mode": {
    "name": "ipython",
    "version": 3
   },
   "file_extension": ".py",
   "mimetype": "text/x-python",
   "name": "python",
   "nbconvert_exporter": "python",
   "pygments_lexer": "ipython3",
   "version": "3.6.7"
  }
 },
 "nbformat": 4,
 "nbformat_minor": 2
}
