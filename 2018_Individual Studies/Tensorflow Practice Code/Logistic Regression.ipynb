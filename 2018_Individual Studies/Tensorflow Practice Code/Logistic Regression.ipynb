{
 "cells": [
  {
   "cell_type": "code",
   "execution_count": 1,
   "metadata": {},
   "outputs": [],
   "source": [
    "import tensorflow as tf\n",
    "import numpy as np"
   ]
  },
  {
   "cell_type": "code",
   "execution_count": 2,
   "metadata": {},
   "outputs": [],
   "source": [
    "# Data loading\n",
    "data = np.loadtxt('data-03-diabetes.csv', delimiter = ',', dtype = np.float32)\n",
    "x_data = data[:, 0:-1]\n",
    "y_data = data[:, -1]"
   ]
  },
  {
   "cell_type": "code",
   "execution_count": 5,
   "metadata": {},
   "outputs": [
    {
     "data": {
      "text/plain": [
       "array([[-0.294118  ,  0.487437  ,  0.180328  , ...,  0.00149028,\n",
       "        -0.53117   , -0.0333333 ],\n",
       "       [-0.882353  , -0.145729  ,  0.0819672 , ..., -0.207153  ,\n",
       "        -0.766866  , -0.666667  ],\n",
       "       [-0.0588235 ,  0.839196  ,  0.0491803 , ..., -0.305514  ,\n",
       "        -0.492741  , -0.633333  ],\n",
       "       ...,\n",
       "       [-0.411765  ,  0.21608   ,  0.180328  , ..., -0.219076  ,\n",
       "        -0.857387  , -0.7       ],\n",
       "       [-0.882353  ,  0.266332  , -0.0163934 , ..., -0.102832  ,\n",
       "        -0.768574  , -0.133333  ],\n",
       "       [-0.882353  , -0.0653266 ,  0.147541  , ..., -0.0938897 ,\n",
       "        -0.797609  , -0.933333  ]], dtype=float32)"
      ]
     },
     "execution_count": 5,
     "metadata": {},
     "output_type": "execute_result"
    }
   ],
   "source": [
    "x_data"
   ]
  },
  {
   "cell_type": "code",
   "execution_count": 3,
   "metadata": {},
   "outputs": [],
   "source": [
    "# Placeholders for a tensor\n",
    "x = tf.placeholder(tf.float32, shape = [None, 8])   ## Number of features\n",
    "y = tf.placeholder(tf.float32, shape = [None])\n",
    "\n",
    "theta = tf.Variable(tf.random_normal([8,1]), name = 'weight')\n",
    "bias = tf.Variable(tf.random_normal([1]), name = 'bias')"
   ]
  },
  {
   "cell_type": "code",
   "execution_count": 4,
   "metadata": {},
   "outputs": [],
   "source": [
    "# Sigmoid Hypothesis\n",
    "hypothesis = tf.sigmoid(tf.matmul(x, theta) + bias)\n",
    "\n",
    "# Cost Function\n",
    "cost = -tf.reduce_mean(y * tf.log(hypothesis) + (1 - y) * tf.log(1 - hypothesis))\n",
    "\n",
    "# Gradient Descent\n",
    "train = tf.train.GradientDescentOptimizer(learning_rate = 1).minimize(cost)"
   ]
  },
  {
   "cell_type": "code",
   "execution_count": 5,
   "metadata": {},
   "outputs": [],
   "source": [
    "# Threshold Setting\n",
    "predicted = tf.cast(hypothesis > 0.5, dtype = tf.float32)\n",
    "accuracy = tf.reduce_mean(tf.cast(tf.equal(predicted, y), dtype = tf.float32))"
   ]
  },
  {
   "cell_type": "code",
   "execution_count": 7,
   "metadata": {},
   "outputs": [
    {
     "name": "stdout",
     "output_type": "stream",
     "text": [
      "0 0.859882\n",
      "200 0.6460054\n",
      "400 0.64527035\n",
      "600 0.64526635\n",
      "800 0.6452845\n",
      "1000 0.6449245\n",
      "1200 0.6448645\n",
      "1400 0.64486897\n",
      "1600 0.6448695\n",
      "1800 0.64487016\n",
      "2000 0.6448701\n",
      "\n",
      "Accuracy:  0.65349144\n"
     ]
    }
   ],
   "source": [
    "# launch graph\n",
    "with tf.Session() as sess:\n",
    "    \n",
    "    # Randomly initialize Tensorflow variables\n",
    "    sess.run(tf.global_variables_initializer())\n",
    "    \n",
    "    for step in range(2001):\n",
    "        cost_val, _ = sess.run([cost, train], feed_dict={x: x_data, y: y_data})\n",
    "        \n",
    "        if step % 200 == 0:\n",
    "            print (step, cost_val)\n",
    "        \n",
    "    # Accracy Report\n",
    "    h, c, a = sess.run([hypothesis, predicted, accuracy],\n",
    "                       feed_dict = {x: x_data, y: y_data})\n",
    "    print(\"\\nAccuracy: \", a)"
   ]
  }
 ],
 "metadata": {
  "kernelspec": {
   "display_name": "Python 3",
   "language": "python",
   "name": "python3"
  },
  "language_info": {
   "codemirror_mode": {
    "name": "ipython",
    "version": 3
   },
   "file_extension": ".py",
   "mimetype": "text/x-python",
   "name": "python",
   "nbconvert_exporter": "python",
   "pygments_lexer": "ipython3",
   "version": "3.6.7"
  }
 },
 "nbformat": 4,
 "nbformat_minor": 2
}
