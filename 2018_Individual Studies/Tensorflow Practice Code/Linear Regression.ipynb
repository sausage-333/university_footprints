{
 "cells": [
  {
   "cell_type": "code",
   "execution_count": 1,
   "metadata": {},
   "outputs": [
    {
     "name": "stdout",
     "output_type": "stream",
     "text": [
      "4.100234746932983\n"
     ]
    }
   ],
   "source": [
    "import time\n",
    "\n",
    "now = time.time()\n",
    "\n",
    "import tensorflow as tf\n",
    "import numpy as np\n",
    "\n",
    "print (time.time() - now)"
   ]
  },
  {
   "cell_type": "markdown",
   "metadata": {},
   "source": [
    "### Tensroflow를 import하는 데에 시간이 너무 오래 걸림.\n",
    "\n",
    "### Numpy도 무리없이 Tensorflow와 같이 호환되는 모습을 확인 가능"
   ]
  },
  {
   "cell_type": "code",
   "execution_count": 2,
   "metadata": {},
   "outputs": [],
   "source": [
    "# Training Sets\n",
    "x_train = np.array([2014, 2015, 2016, 2017, 2018, 2019])\n",
    "y_train = np.array([1061.80, 1105.80, 1205.00, 1136.52, 1069.02, 1118.46])"
   ]
  },
  {
   "cell_type": "code",
   "execution_count": 3,
   "metadata": {},
   "outputs": [],
   "source": [
    "#Feature Scaling\n",
    "x_avg = np.average(x_train)\n",
    "y_avg = np.average(y_train)\n",
    "\n",
    "x_max = np.amax(x_train)\n",
    "y_max = np.amax(y_train)\n",
    "\n",
    "fs_x_train = (x_train - x_avg) / x_max\n",
    "fs_y_train = (y_train - y_avg) / y_max"
   ]
  },
  {
   "cell_type": "code",
   "execution_count": 4,
   "metadata": {},
   "outputs": [],
   "source": [
    "# Model input & output\n",
    "x = tf.placeholder(tf.float32)\n",
    "y = tf.placeholder(tf.float32)"
   ]
  },
  {
   "cell_type": "markdown",
   "metadata": {},
   "source": [
    "## Q1. 굳이 쓰는 placeholder를 쓰는 까닭이 있는가?"
   ]
  },
  {
   "cell_type": "code",
   "execution_count": 5,
   "metadata": {},
   "outputs": [],
   "source": [
    "# Hypothesis Parameters\n",
    "t_0 = tf.Variable(tf.random_normal([1]), name = 'bias')\n",
    "t_1 = tf.Variable(tf.random_normal([1]), name = 'weight')\n",
    "t_2 = tf.Variable(tf.random_normal([1]), name = 'weight')"
   ]
  },
  {
   "cell_type": "code",
   "execution_count": 6,
   "metadata": {},
   "outputs": [],
   "source": [
    "# Quadratic Hypothesis\n",
    "hypothesis = x * x * t_2 + x * t_1 + t_0"
   ]
  },
  {
   "cell_type": "code",
   "execution_count": 7,
   "metadata": {},
   "outputs": [],
   "source": [
    "# Cost Function; Square Error Function\n",
    "cost = tf.reduce_sum(tf.square(hypothesis - y))"
   ]
  },
  {
   "cell_type": "code",
   "execution_count": 45,
   "metadata": {},
   "outputs": [],
   "source": [
    "# Gradient Descent Algorithm\n",
    "train = tf.train.GradientDescentOptimizer(learning_rate = 0.0001).minimize(cost)"
   ]
  },
  {
   "cell_type": "code",
   "execution_count": 46,
   "metadata": {},
   "outputs": [
    {
     "name": "stdout",
     "output_type": "stream",
     "text": [
      "0 th iteration; t_2:  [1.3800942] t_1:  [0.59343207] t_0:  [0.4184795] Cost:  1.0626221\n",
      "At 2020, 1 dollar is worth as much as  [1621.6124]  won.\n",
      "100 th iteration; t_2:  [1.3800942] t_1:  [0.59343207] t_0:  [0.3711312] Cost:  0.8377621\n",
      "At 2020, 1 dollar is worth as much as  [1564.5577]  won.\n",
      "200 th iteration; t_2:  [1.3800942] t_1:  [0.59343207] t_0:  [0.32913998] Cost:  0.66090584\n",
      "At 2020, 1 dollar is worth as much as  [1513.9583]  won.\n",
      "300 th iteration; t_2:  [1.3800942] t_1:  [0.59343207] t_0:  [0.2918998] Cost:  0.521806\n",
      "At 2020, 1 dollar is worth as much as  [1469.0839]  won.\n",
      "400 th iteration; t_2:  [1.3800942] t_1:  [0.59343207] t_0:  [0.2588732] Cost:  0.41240215\n",
      "At 2020, 1 dollar is worth as much as  [1429.2869]  won.\n",
      "500 th iteration; t_2:  [1.3800942] t_1:  [0.59343207] t_0:  [0.22958325] Cost:  0.32635427\n",
      "At 2020, 1 dollar is worth as much as  [1393.9924]  won.\n",
      "600 th iteration; t_2:  [1.3800942] t_1:  [0.59343207] t_0:  [0.20360729] Cost:  0.25867635\n",
      "At 2020, 1 dollar is worth as much as  [1362.6914]  won.\n",
      "700 th iteration; t_2:  [1.3800942] t_1:  [0.59343207] t_0:  [0.18057027] Cost:  0.2054466\n",
      "At 2020, 1 dollar is worth as much as  [1334.9318]  won.\n",
      "800 th iteration; t_2:  [1.3800942] t_1:  [0.59343207] t_0:  [0.16013984] Cost:  0.1635808\n",
      "At 2020, 1 dollar is worth as much as  [1310.3131]  won.\n",
      "900 th iteration; t_2:  [1.3800942] t_1:  [0.59343207] t_0:  [0.14202096] Cost:  0.1306527\n",
      "At 2020, 1 dollar is worth as much as  [1288.4799]  won.\n",
      "1000 th iteration; t_2:  [1.3800942] t_1:  [0.59343207] t_0:  [0.12595205] Cost:  0.104754195\n",
      "At 2020, 1 dollar is worth as much as  [1269.1168]  won.\n",
      "1100 th iteration; t_2:  [1.3800942] t_1:  [0.59343207] t_0:  [0.11170131] Cost:  0.084384754\n",
      "At 2020, 1 dollar is worth as much as  [1251.9447]  won.\n",
      "1200 th iteration; t_2:  [1.3800942] t_1:  [0.59343207] t_0:  [0.09906293] Cost:  0.068363875\n",
      "At 2020, 1 dollar is worth as much as  [1236.7155]  won.\n",
      "1300 th iteration; t_2:  [1.3800942] t_1:  [0.59343207] t_0:  [0.0878545] Cost:  0.055763207\n",
      "At 2020, 1 dollar is worth as much as  [1223.2092]  won.\n",
      "1400 th iteration; t_2:  [1.3800942] t_1:  [0.59343207] t_0:  [0.07791421] Cost:  0.04585258\n",
      "At 2020, 1 dollar is worth as much as  [1211.2312]  won.\n",
      "1500 th iteration; t_2:  [1.3800942] t_1:  [0.59343207] t_0:  [0.06909861] Cost:  0.038057752\n",
      "At 2020, 1 dollar is worth as much as  [1200.6084]  won.\n",
      "1600 th iteration; t_2:  [1.3800942] t_1:  [0.59343207] t_0:  [0.06128043] Cost:  0.031926986\n",
      "At 2020, 1 dollar is worth as much as  [1191.1875]  won.\n",
      "1700 th iteration; t_2:  [1.3800942] t_1:  [0.59343207] t_0:  [0.05434685] Cost:  0.02710507\n",
      "At 2020, 1 dollar is worth as much as  [1182.8325]  won.\n",
      "1800 th iteration; t_2:  [1.3800942] t_1:  [0.59343207] t_0:  [0.04819774] Cost:  0.023312554\n",
      "At 2020, 1 dollar is worth as much as  [1175.4229]  won.\n",
      "1900 th iteration; t_2:  [1.3800942] t_1:  [0.59343207] t_0:  [0.04274436] Cost:  0.020329684\n",
      "At 2020, 1 dollar is worth as much as  [1168.8516]  won.\n",
      "2000 th iteration; t_2:  [1.3800942] t_1:  [0.59343207] t_0:  [0.03790802] Cost:  0.017983625\n",
      "At 2020, 1 dollar is worth as much as  [1163.0238]  won.\n"
     ]
    }
   ],
   "source": [
    "cost_arr = []\n",
    "step_arr = np.linspace(0, 2000, num = 21, endpoint = True)\n",
    "\n",
    "# Launch the graph in a session\n",
    "with tf.Session() as sess:\n",
    "    # Initializes global variables in the graph\n",
    "    sess.run(tf.global_variables_initializer())\n",
    "    \n",
    "    # Fit the line\n",
    "    for step in range(2001):\n",
    "        _, cost_val, t_2_val, t_1_val, t_0_val = sess.run(\n",
    "            [train, cost, t_2, t_1, t_0],\n",
    "            feed_dict = {x: fs_x_train, y: fs_y_train})\n",
    "        \n",
    "        if step % 100 == 0:\n",
    "            print(step, \"th iteration;\", \"t_2: \", t_2_val, \"t_1: \", t_1_val, \"t_0: \", t_0_val, \"Cost: \", cost_val)\n",
    "            \n",
    "            ## Feature Scaling Transformation\n",
    "            fs_2020 = (2020 - x_avg) / x_max\n",
    "            y_2020 = fs_2020 * fs_2020 * t_2_val + fs_2020 * t_1_val + t_0_val\n",
    "            fs_y = y_2020 * y_max + y_avg\n",
    "            \n",
    "            cost_arr.append(cost_val)\n",
    "            \n",
    "            print(\"At 2020, 1 dollar is worth as much as \", fs_y , \" won.\")"
   ]
  },
  {
   "cell_type": "markdown",
   "metadata": {},
   "source": [
    "## Feature Scaling이 꼭 필요한 까닭은 Cost를 정규화하여 보기 위함이다. \n",
    "\n",
    "### Feature Scaling을 한 이후에는 Scaling한 x와 y 값을 올바르게 변환해야한다.\n",
    "\n",
    "### Random 값에 따라 예측 값이 조금씩 달라진다. (Qudaratic 기준 1010 ~ 1022) 정도"
   ]
  },
  {
   "cell_type": "code",
   "execution_count": 47,
   "metadata": {},
   "outputs": [
    {
     "data": {
      "text/plain": [
       "[<matplotlib.lines.Line2D at 0x11156a90>]"
      ]
     },
     "execution_count": 47,
     "metadata": {},
     "output_type": "execute_result"
    },
    {
     "data": {
      "image/png": "[encoded data removed]",
      "text/plain": [
       "<Figure size 432x288 with 1 Axes>"
      ]
     },
     "metadata": {
      "needs_background": "light"
     },
     "output_type": "display_data"
    }
   ],
   "source": [
    "## Cost & Iteration graph\n",
    "import matplotlib.pyplot as plt\n",
    "plt.plot(step_arr, cost_arr)"
   ]
  },
  {
   "cell_type": "code",
   "execution_count": null,
   "metadata": {},
   "outputs": [],
   "source": []
  }
 ],
 "metadata": {
  "kernelspec": {
   "display_name": "Python 3",
   "language": "python",
   "name": "python3"
  },
  "language_info": {
   "codemirror_mode": {
    "name": "ipython",
    "version": 3
   },
   "file_extension": ".py",
   "mimetype": "text/x-python",
   "name": "python",
   "nbconvert_exporter": "python",
   "pygments_lexer": "ipython3",
   "version": "3.6.7"
  }
 },
 "nbformat": 4,
 "nbformat_minor": 2
}
