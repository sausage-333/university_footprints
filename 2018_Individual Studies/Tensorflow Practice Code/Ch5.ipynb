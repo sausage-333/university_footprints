{
 "cells": [
  {
   "cell_type": "markdown",
   "metadata": {},
   "source": [
    "## 5.1 학습 모델 저장하고 재사용하기\n",
    "\n",
    "#### .csv 파일로 데이터 분리하기. 1열은 털, 2열은 날개, 3 ~ 마지막 열은 One-hot 인코딩으로 개체의 종류를 나타내는 데이터이다."
   ]
  },
  {
   "cell_type": "code",
   "execution_count": 1,
   "metadata": {},
   "outputs": [],
   "source": [
    "import tensorflow as tf\n",
    "import numpy as np"
   ]
  },
  {
   "cell_type": "markdown",
   "metadata": {},
   "source": [
    "#### 같은 디렉토리에 data.csv 파일을 둔다."
   ]
  },
  {
   "cell_type": "code",
   "execution_count": 2,
   "metadata": {},
   "outputs": [],
   "source": [
    "data = np.loadtxt('./data.csv', delimiter = ',', dtype = 'float32')\n",
    "\n",
    "x_data = data[:, 0:2]\n",
    "y_data = data[:, 2:]"
   ]
  },
  {
   "cell_type": "code",
   "execution_count": 3,
   "metadata": {},
   "outputs": [
    {
     "data": {
      "text/plain": [
       "array([[0., 0.],\n",
       "       [1., 0.],\n",
       "       [1., 1.],\n",
       "       [0., 0.],\n",
       "       [0., 0.],\n",
       "       [0., 1.]], dtype=float32)"
      ]
     },
     "execution_count": 3,
     "metadata": {},
     "output_type": "execute_result"
    }
   ],
   "source": [
    "x_data"
   ]
  },
  {
   "cell_type": "code",
   "execution_count": 4,
   "metadata": {},
   "outputs": [
    {
     "data": {
      "text/plain": [
       "array([[1., 0., 0.],\n",
       "       [0., 1., 0.],\n",
       "       [0., 0., 1.],\n",
       "       [1., 0., 0.],\n",
       "       [1., 0., 0.],\n",
       "       [0., 0., 1.]], dtype=float32)"
      ]
     },
     "execution_count": 4,
     "metadata": {},
     "output_type": "execute_result"
    }
   ],
   "source": [
    "y_data"
   ]
  },
  {
   "cell_type": "code",
   "execution_count": 5,
   "metadata": {},
   "outputs": [],
   "source": [
    "### Variable for counting training number\n",
    "global_step = tf.Variable(0, trainable = False, name = 'global_step')"
   ]
  },
  {
   "cell_type": "code",
   "execution_count": 6,
   "metadata": {},
   "outputs": [],
   "source": [
    "### Placeholder & Weight Setting\n",
    "### For this time, there is no bias\n",
    "X = tf.placeholder(tf.float32)\n",
    "Y = tf.placeholder(tf.float32)\n",
    "\n",
    "### Neural Net Setting\n",
    "W1 = tf.Variable(tf.random_uniform([2, 10], -1., 1.))\n",
    "L1 = tf.nn.relu(tf.matmul(X, W1))\n",
    "\n",
    "W2 = tf.Variable(tf.random_uniform([10, 20], -1., 1.))\n",
    "L2 = tf.nn.relu(tf.matmul(L1, W2))\n",
    "\n",
    "W3 = tf.Variable(tf.random_uniform([20, 3], -1., 1.))\n",
    "model = tf.matmul(L2, W3)"
   ]
  },
  {
   "cell_type": "markdown",
   "metadata": {},
   "source": [
    "#### Bias는 없고, 은닉층은 2층인 DNN. 1층은 10개, 2층은 20개"
   ]
  },
  {
   "cell_type": "code",
   "execution_count": 7,
   "metadata": {},
   "outputs": [],
   "source": [
    "cost = tf.reduce_mean(tf.nn.softmax_cross_entropy_with_logits_v2(labels = Y, logits = model))\n",
    "\n",
    "optimizer = tf.train.AdamOptimizer(learning_rate = 0.01)\n",
    "train_op = optimizer.minimize(cost, global_step = global_step)"
   ]
  },
  {
   "cell_type": "markdown",
   "metadata": {},
   "source": [
    "#### train_op에서 앞서 정의한 global_step을 global_step 파라미터에 전달하였다. 이렇게 하면 최적화 함수가 학습용 변수들을 최적화할 때마다, global_step 값을 1씩 증가한다."
   ]
  },
  {
   "cell_type": "code",
   "execution_count": 8,
   "metadata": {},
   "outputs": [],
   "source": [
    "sess = tf.Session()\n",
    "### Function that brings pre-defined variables \n",
    "saver = tf.train.Saver(tf.global_variables())"
   ]
  },
  {
   "cell_type": "markdown",
   "metadata": {},
   "source": [
    "#### global_variables()를 통해 앞서 정의한 변수들을 모두 가져와서, 이후 이 변수들을 파일에 저장하거나 이전에 학습한 결과를 불러와 담는 변수들로 사용한다."
   ]
  },
  {
   "cell_type": "code",
   "execution_count": 9,
   "metadata": {},
   "outputs": [
    {
     "name": "stdout",
     "output_type": "stream",
     "text": [
      "INFO:tensorflow:Restoring parameters from ./model\\dnn.ckpt-6\n"
     ]
    }
   ],
   "source": [
    "ckpt = tf.train.get_checkpoint_state('./model')\n",
    "### Check whether the trained model exists in ./model directory\n",
    "if ckpt and tf.train.checkpoint_exists(ckpt.model_checkpoint_path):\n",
    "    ### Load trained model\n",
    "    saver.restore(sess, ckpt.model_checkpoint_path)\n",
    "else:\n",
    "    ### Initialize variables\n",
    "    sess.run(tf.global_variables_initializer())"
   ]
  },
  {
   "cell_type": "markdown",
   "metadata": {},
   "source": [
    "#### 학습된 모델을 저장한 파일을 체크포인트 파일이라 한다. 이번에는 step 값이 아니라 global_step값을 이용해 학습을 몇 번째 진행하고 있는지 확인한다."
   ]
  },
  {
   "cell_type": "code",
   "execution_count": 10,
   "metadata": {},
   "outputs": [
    {
     "name": "stdout",
     "output_type": "stream",
     "text": [
      "Step:  1 Cost:  0.639864\n",
      "Step:  2 Cost:  0.6262947\n"
     ]
    }
   ],
   "source": [
    "for step in range(2):\n",
    "    sess.run(train_op, feed_dict = {X: x_data, Y: y_data})\n",
    "    \n",
    "    print(\"Step: \", sess.run(global_step), \"Cost: \", sess.run(cost, feed_dict = {X: x_data, Y: y_data}))"
   ]
  },
  {
   "cell_type": "code",
   "execution_count": 11,
   "metadata": {},
   "outputs": [
    {
     "data": {
      "text/plain": [
       "'./model/dnn.ckpt-2'"
      ]
     },
     "execution_count": 11,
     "metadata": {},
     "output_type": "execute_result"
    }
   ],
   "source": [
    "### Save trained variables in checkpoint file\n",
    "saver.save(sess, './model/dnn.ckpt', global_step = global_step)"
   ]
  },
  {
   "cell_type": "code",
   "execution_count": 12,
   "metadata": {},
   "outputs": [
    {
     "name": "stdout",
     "output_type": "stream",
     "text": [
      "예측값:  [0 1 2 0 0 2]\n",
      "실제값:  [0 1 2 0 0 2]\n",
      "정확도:  100.0\n"
     ]
    }
   ],
   "source": [
    "### Printing Prediction & Real\n",
    "prediction = tf.argmax(model, axis = 1)\n",
    "target = tf.argmax(Y, axis = 1)\n",
    "print (\"예측값: \", sess.run(prediction, feed_dict = {X: x_data}))\n",
    "print (\"실제값: \", sess.run(target, feed_dict = {Y: y_data}))\n",
    "\n",
    "### Compute Accuracy\n",
    "is_correct = tf.equal(prediction, target)\n",
    "accuracy = tf.reduce_mean(tf.cast(is_correct, tf.float32))\n",
    "print (\"정확도: \", sess.run(accuracy * 100, feed_dict = {X: x_data, Y: y_data}))"
   ]
  },
  {
   "cell_type": "markdown",
   "metadata": {},
   "source": [
    "#### 이번 코드를 통해 텐서플로우로 모델 구성은 물론, 학습 후 이것을 저장 및 로드하여 재사용할 수 있음을 확인할 수 있었다.\n",
    "\n",
    "#### 로드 후 재사용이 가능하다는 의미는, 학습과 예측을 분리하여 실행할 수 있음을 의미한다."
   ]
  },
  {
   "cell_type": "markdown",
   "metadata": {},
   "source": [
    "## 5.2 텐서보드 사용하기\n",
    "\n",
    "#### 텐서보드는 학습 과정을 추적하기 쉽게, 손실값이나 정확도 등을 다양한 방식으로 시각화하여 보여준다."
   ]
  },
  {
   "cell_type": "code",
   "execution_count": 13,
   "metadata": {},
   "outputs": [],
   "source": [
    "import tensorflow as tf\n",
    "import numpy as np\n",
    "\n",
    "data = np.loadtxt('./data.csv', delimiter = ',', dtype = 'float32')\n",
    "\n",
    "x_data = data[:, 0:2]\n",
    "y_data = data[:, 2:]\n",
    "\n",
    "### Variable for counting training number\n",
    "global_step = tf.Variable(0, trainable = False, name = 'global_step')\n",
    "\n",
    "### Placeholder & Weight Setting\n",
    "### For this time, there is no bias\n",
    "X = tf.placeholder(tf.float32)\n",
    "Y = tf.placeholder(tf.float32)"
   ]
  },
  {
   "cell_type": "markdown",
   "metadata": {},
   "source": [
    "#### 텐서보드를 사용하기 위한 코드를 추가한다."
   ]
  },
  {
   "cell_type": "code",
   "execution_count": 14,
   "metadata": {},
   "outputs": [],
   "source": [
    "with tf.name_scope('layer1'):\n",
    "    ### Neural Net Setting\n",
    "    ### You can check implicitly in tensorboard\n",
    "    W1 = tf.Variable(tf.random_uniform([2, 10], -1., 1.), name = 'W1')\n",
    "    L1 = tf.nn.relu(tf.matmul(X, W1))\n",
    "    \n",
    "with tf.name_scope('layer2'):\n",
    "    W2 = tf.Variable(tf.random_uniform([10, 20], -1., 1.), name = 'W2')\n",
    "    L2 = tf.nn.relu(tf.matmul(L1, W2))\n",
    "    \n",
    "with tf.name_scope('output'):\n",
    "    W3 = tf.Variable(tf.random_uniform([20, 3], -1., 1.), name = 'W3')\n",
    "    model = tf.matmul(L2, W3)\n",
    "    \n",
    "with tf.name_scope('optimizer'):\n",
    "    cost = tf.reduce_mean(tf.nn.softmax_cross_entropy_with_logits_v2(labels = Y, logits = model))\n",
    "\n",
    "    optimizer = tf.train.AdamOptimizer(learning_rate = 0.01)\n",
    "    train_op = optimizer.minimize(cost, global_step = global_step)\n",
    "    \n",
    "    tf.summary.scalar('cost', cost)"
   ]
  },
  {
   "cell_type": "markdown",
   "metadata": {},
   "source": [
    "##### 값이 하나인 텐서를 수집할 때 scalar 메소드를 사용한다."
   ]
  },
  {
   "cell_type": "code",
   "execution_count": 15,
   "metadata": {},
   "outputs": [
    {
     "name": "stdout",
     "output_type": "stream",
     "text": [
      "INFO:tensorflow:Restoring parameters from ./model2\\dnn.ckpt-100\n"
     ]
    }
   ],
   "source": [
    "sess = tf.Session()\n",
    "### Function that brings pre-defined variables \n",
    "saver = tf.train.Saver(tf.global_variables())\n",
    "\n",
    "ckpt = tf.train.get_checkpoint_state('./model2')\n",
    "### Check whether the trained model exists in ./model directory\n",
    "if ckpt and tf.train.checkpoint_exists(ckpt.model_checkpoint_path):\n",
    "    ### Load trained model\n",
    "    saver.restore(sess, ckpt.model_checkpoint_path)\n",
    "else:\n",
    "    ### Initialize variables\n",
    "    sess.run(tf.global_variables_initializer())"
   ]
  },
  {
   "cell_type": "code",
   "execution_count": 16,
   "metadata": {},
   "outputs": [],
   "source": [
    "merged = tf.summary.merge_all()\n",
    "writer = tf.summary.FileWriter('./logs', sess.graph)"
   ]
  },
  {
   "cell_type": "markdown",
   "metadata": {},
   "source": [
    "#### tf.summary.merge_all 함수로 앞서 지정한 텐서들을 수집한 다음, tf.summary.FileWriter 함수를 이용해 그래프와 텐서들의 값을 저장할 디렉토리를 설정한다."
   ]
  },
  {
   "cell_type": "code",
   "execution_count": 17,
   "metadata": {},
   "outputs": [
    {
     "name": "stdout",
     "output_type": "stream",
     "text": [
      "Step:  1 Cost:  1.2285805\n",
      "Step:  2 Cost:  1.1200504\n",
      "Step:  3 Cost:  1.0265937\n",
      "Step:  4 Cost:  0.9490139\n",
      "Step:  5 Cost:  0.88534784\n",
      "Step:  6 Cost:  0.8362914\n",
      "Step:  7 Cost:  0.7956496\n",
      "Step:  8 Cost:  0.76097244\n",
      "Step:  9 Cost:  0.73139685\n",
      "Step:  10 Cost:  0.7070139\n",
      "Step:  11 Cost:  0.6864138\n",
      "Step:  12 Cost:  0.6682369\n",
      "Step:  13 Cost:  0.6522586\n",
      "Step:  14 Cost:  0.63922024\n",
      "Step:  15 Cost:  0.62790966\n",
      "Step:  16 Cost:  0.6181378\n",
      "Step:  17 Cost:  0.6097264\n",
      "Step:  18 Cost:  0.6026749\n",
      "Step:  19 Cost:  0.5965258\n",
      "Step:  20 Cost:  0.59115857\n",
      "Step:  21 Cost:  0.58634025\n",
      "Step:  22 Cost:  0.58201265\n",
      "Step:  23 Cost:  0.5782985\n",
      "Step:  24 Cost:  0.57502705\n",
      "Step:  25 Cost:  0.5721347\n",
      "Step:  26 Cost:  0.5695888\n",
      "Step:  27 Cost:  0.56739146\n",
      "Step:  28 Cost:  0.56547564\n",
      "Step:  29 Cost:  0.56380373\n",
      "Step:  30 Cost:  0.5623707\n",
      "Step:  31 Cost:  0.56111544\n",
      "Step:  32 Cost:  0.56003016\n",
      "Step:  33 Cost:  0.55910677\n",
      "Step:  34 Cost:  0.5582829\n",
      "Step:  35 Cost:  0.5575461\n",
      "Step:  36 Cost:  0.5568865\n",
      "Step:  37 Cost:  0.5562955\n",
      "Step:  38 Cost:  0.55576545\n",
      "Step:  39 Cost:  0.55528986\n",
      "Step:  40 Cost:  0.55486256\n",
      "Step:  41 Cost:  0.5544784\n",
      "Step:  42 Cost:  0.5541327\n",
      "Step:  43 Cost:  0.5538211\n",
      "Step:  44 Cost:  0.55353993\n",
      "Step:  45 Cost:  0.55328584\n",
      "Step:  46 Cost:  0.55305964\n",
      "Step:  47 Cost:  0.5528552\n",
      "Step:  48 Cost:  0.5526691\n",
      "Step:  49 Cost:  0.5524993\n",
      "Step:  50 Cost:  0.5523441\n",
      "Step:  51 Cost:  0.5522018\n",
      "Step:  52 Cost:  0.5520769\n",
      "Step:  53 Cost:  0.5519615\n",
      "Step:  54 Cost:  0.55185413\n",
      "Step:  55 Cost:  0.551754\n",
      "Step:  56 Cost:  0.5516605\n",
      "Step:  57 Cost:  0.5515728\n",
      "Step:  58 Cost:  0.5514907\n",
      "Step:  59 Cost:  0.55141544\n",
      "Step:  60 Cost:  0.55134743\n",
      "Step:  61 Cost:  0.55128354\n",
      "Step:  62 Cost:  0.55122346\n",
      "Step:  63 Cost:  0.5511668\n",
      "Step:  64 Cost:  0.55111337\n",
      "Step:  65 Cost:  0.551063\n",
      "Step:  66 Cost:  0.55101573\n",
      "Step:  67 Cost:  0.55097073\n",
      "Step:  68 Cost:  0.5509279\n",
      "Step:  69 Cost:  0.55088705\n",
      "Step:  70 Cost:  0.550848\n",
      "Step:  71 Cost:  0.55081147\n",
      "Step:  72 Cost:  0.55077654\n",
      "Step:  73 Cost:  0.5507428\n",
      "Step:  74 Cost:  0.55071014\n",
      "Step:  75 Cost:  0.5506787\n",
      "Step:  76 Cost:  0.5506484\n",
      "Step:  77 Cost:  0.5506186\n",
      "Step:  78 Cost:  0.5505742\n",
      "Step:  79 Cost:  0.55052966\n",
      "Step:  80 Cost:  0.5504862\n",
      "Step:  81 Cost:  0.5504439\n",
      "Step:  82 Cost:  0.55040336\n",
      "Step:  83 Cost:  0.5503649\n",
      "Step:  84 Cost:  0.55032855\n",
      "Step:  85 Cost:  0.5502944\n",
      "Step:  86 Cost:  0.55026275\n",
      "Step:  87 Cost:  0.5502334\n",
      "Step:  88 Cost:  0.5502059\n",
      "Step:  89 Cost:  0.55017996\n",
      "Step:  90 Cost:  0.5501558\n",
      "Step:  91 Cost:  0.55013305\n",
      "Step:  92 Cost:  0.5501118\n",
      "Step:  93 Cost:  0.55009186\n",
      "Step:  94 Cost:  0.55007297\n",
      "Step:  95 Cost:  0.5500559\n",
      "Step:  96 Cost:  0.5500397\n",
      "Step:  97 Cost:  0.5500243\n",
      "Step:  98 Cost:  0.55000955\n",
      "Step:  99 Cost:  0.54999554\n",
      "Step:  100 Cost:  0.54998213\n"
     ]
    }
   ],
   "source": [
    "for step in range(100):\n",
    "    sess.run(train_op, feed_dict = {X: x_data, Y: y_data})\n",
    "    \n",
    "    print(\"Step: \", sess.run(global_step), \"Cost: \", sess.run(cost, feed_dict = {X: x_data, Y: y_data}))\n",
    "    \n",
    "    summary = sess.run(merged, feed_dict = {X: x_data, Y: y_data})\n",
    "    writer.add_summary(summary, global_step = sess.run(global_step))"
   ]
  },
  {
   "cell_type": "markdown",
   "metadata": {},
   "source": [
    "#### merged에 모아둔 텐서의 값들을 계산하여 summary에 수집한 뒤, add_summary 함수로 변수 writer에 해당 값들을 지정한 디렉토리에 저장한다."
   ]
  },
  {
   "cell_type": "code",
   "execution_count": 18,
   "metadata": {},
   "outputs": [
    {
     "name": "stdout",
     "output_type": "stream",
     "text": [
      "예측값:  [0 1 2 0 0 2]\n",
      "실제값:  [0 1 2 0 0 2]\n",
      "정확도:  100.0\n"
     ]
    }
   ],
   "source": [
    "### Save trained variables in checkpoint file\n",
    "saver.save(sess, './model2/dnn.ckpt', global_step = global_step)\n",
    "\n",
    "### Printing Prediction & Real\n",
    "prediction = tf.argmax(model, axis = 1)\n",
    "target = tf.argmax(Y, axis = 1)\n",
    "print (\"예측값: \", sess.run(prediction, feed_dict = {X: x_data}))\n",
    "print (\"실제값: \", sess.run(target, feed_dict = {Y: y_data}))\n",
    "\n",
    "### Compute Accuracy\n",
    "is_correct = tf.equal(prediction, target)\n",
    "accuracy = tf.reduce_mean(tf.cast(is_correct, tf.float32))\n",
    "print (\"정확도: \", sess.run(accuracy * 100, feed_dict = {X: x_data, Y: y_data}))"
   ]
  },
  {
   "cell_type": "code",
   "execution_count": null,
   "metadata": {},
   "outputs": [],
   "source": []
  }
 ],
 "metadata": {
  "kernelspec": {
   "display_name": "Python 3",
   "language": "python",
   "name": "python3"
  },
  "language_info": {
   "codemirror_mode": {
    "name": "ipython",
    "version": 3
   },
   "file_extension": ".py",
   "mimetype": "text/x-python",
   "name": "python",
   "nbconvert_exporter": "python",
   "pygments_lexer": "ipython3",
   "version": "3.6.7"
  }
 },
 "nbformat": 4,
 "nbformat_minor": 2
}
